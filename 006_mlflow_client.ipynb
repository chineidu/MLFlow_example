{
 "cells": [
  {
   "cell_type": "markdown",
   "id": "09f43f09-62e8-4c7e-8ba5-b43f2aeec898",
   "metadata": {},
   "source": [
    "# MLFLOW CLIENT USING PYTHON API\n",
    "\n",
    "Check the [docs](https://www.mlflow.org/docs/latest/model-registry.html#adding-an-mlflow-model-to-the-model-registry) for more information."
   ]
  },
  {
   "cell_type": "code",
   "execution_count": 1,
   "id": "1034fcbb-e5c0-4b7a-b2b6-f206d5b61627",
   "metadata": {
    "scrolled": true,
    "tags": []
   },
   "outputs": [],
   "source": [
    "# Standard imports\n",
    "import numpy as np\n",
    "import pandas as pd\n",
    "from pydantic import BaseModel, ValidationError\n",
    "import yaml\n",
    "\n",
    "# Visualization\n",
    "import matplotlib.pyplot as plt\n",
    "import seaborn as sns\n",
    "\n",
    "sns.set()\n",
    "\n",
    "# Built-in library\n",
    "import itertools\n",
    "import re\n",
    "import json\n",
    "import typing as tp\n",
    "import logging\n",
    "\n",
    "import warnings\n",
    "\n",
    "warnings.filterwarnings(\"error\")\n",
    "\n",
    "# for saving the pipeline\n",
    "import joblib\n",
    "\n",
    "# MLFlow\n",
    "import mlflow\n",
    "\n",
    "# from Scikit-learn\n",
    "from sklearn.model_selection import train_test_split\n",
    "from sklearn.preprocessing import StandardScaler, MinMaxScaler, Binarizer\n",
    "from sklearn.pipeline import Pipeline\n",
    "from sklearn.base import BaseEstimator, TransformerMixin\n",
    "from sklearn.linear_model import LinearRegression, Lasso\n",
    "from sklearn.ensemble import RandomForestRegressor\n",
    "from sklearn import metrics, set_config\n",
    "\n",
    "# Pipeline Display\n",
    "set_config(display=\"text\")\n",
    "\n",
    "# from feature-engine\n",
    "from feature_engine.imputation import (\n",
    "    AddMissingIndicator,\n",
    "    MeanMedianImputer,\n",
    ")\n",
    "\n",
    "from feature_engine.transformation import (\n",
    "    LogTransformer,\n",
    "    YeoJohnsonTransformer,\n",
    ")\n",
    "\n",
    "from feature_engine.selection import DropFeatures\n",
    "\n",
    "# Custom Imports\n",
    "from data_manager import load_data, validate_input\n",
    "import feat_engineering as fe\n",
    "from schema import (\n",
    "    InputSchema,\n",
    "    ValidateTrainingData,\n",
    "    ModelConfig,\n",
    "    MLFlowConfig,\n",
    "    ConfigVars,\n",
    ")\n",
    "import utilities as util\n",
    "\n",
    "# pandas settings\n",
    "pd.options.display.max_rows = 1_000\n",
    "pd.options.display.max_columns = 1_000\n",
    "pd.options.display.max_colwidth = 600\n",
    "\n",
    "# Black code formatter (Optional)\n",
    "%load_ext lab_black\n",
    "# auto reload imports\n",
    "%load_ext autoreload\n",
    "%autoreload 2"
   ]
  },
  {
   "cell_type": "code",
   "execution_count": 2,
   "id": "ee246ee3-f93a-4e3a-b6f5-f2919919793b",
   "metadata": {
    "scrolled": true
   },
   "outputs": [
    {
     "name": "stdout",
     "output_type": "stream",
     "text": [
      "Shape of: \n",
      "train_data: (2406155, 20)\n",
      "test_data: (2901257, 20)\n",
      "\n"
     ]
    },
    {
     "data": {
      "text/html": [
       "<div>\n",
       "<style scoped>\n",
       "    .dataframe tbody tr th:only-of-type {\n",
       "        vertical-align: middle;\n",
       "    }\n",
       "\n",
       "    .dataframe tbody tr th {\n",
       "        vertical-align: top;\n",
       "    }\n",
       "\n",
       "    .dataframe thead th {\n",
       "        text-align: right;\n",
       "    }\n",
       "</style>\n",
       "<table border=\"1\" class=\"dataframe\">\n",
       "  <thead>\n",
       "    <tr style=\"text-align: right;\">\n",
       "      <th></th>\n",
       "      <th>VendorID</th>\n",
       "      <th>tpep_pickup_datetime</th>\n",
       "      <th>tpep_dropoff_datetime</th>\n",
       "      <th>passenger_count</th>\n",
       "      <th>trip_distance</th>\n",
       "      <th>RatecodeID</th>\n",
       "      <th>store_and_fwd_flag</th>\n",
       "      <th>PULocationID</th>\n",
       "      <th>DOLocationID</th>\n",
       "      <th>payment_type</th>\n",
       "      <th>fare_amount</th>\n",
       "      <th>extra</th>\n",
       "      <th>mta_tax</th>\n",
       "      <th>tip_amount</th>\n",
       "      <th>tolls_amount</th>\n",
       "      <th>improvement_surcharge</th>\n",
       "      <th>total_amount</th>\n",
       "      <th>congestion_surcharge</th>\n",
       "      <th>airport_fee</th>\n",
       "      <th>trip_duration</th>\n",
       "    </tr>\n",
       "  </thead>\n",
       "  <tbody>\n",
       "    <tr>\n",
       "      <th>0</th>\n",
       "      <td>1</td>\n",
       "      <td>2022-01-01 00:35:40</td>\n",
       "      <td>2022-01-01 00:53:29</td>\n",
       "      <td>2.0</td>\n",
       "      <td>3.80</td>\n",
       "      <td>1.0</td>\n",
       "      <td>N</td>\n",
       "      <td>142</td>\n",
       "      <td>236</td>\n",
       "      <td>1</td>\n",
       "      <td>14.5</td>\n",
       "      <td>3.0</td>\n",
       "      <td>0.5</td>\n",
       "      <td>3.65</td>\n",
       "      <td>0.0</td>\n",
       "      <td>0.3</td>\n",
       "      <td>21.95</td>\n",
       "      <td>2.5</td>\n",
       "      <td>0.0</td>\n",
       "      <td>2.934920</td>\n",
       "    </tr>\n",
       "    <tr>\n",
       "      <th>1</th>\n",
       "      <td>1</td>\n",
       "      <td>2022-01-01 00:33:43</td>\n",
       "      <td>2022-01-01 00:42:07</td>\n",
       "      <td>1.0</td>\n",
       "      <td>2.10</td>\n",
       "      <td>1.0</td>\n",
       "      <td>N</td>\n",
       "      <td>236</td>\n",
       "      <td>42</td>\n",
       "      <td>1</td>\n",
       "      <td>8.0</td>\n",
       "      <td>0.5</td>\n",
       "      <td>0.5</td>\n",
       "      <td>4.00</td>\n",
       "      <td>0.0</td>\n",
       "      <td>0.3</td>\n",
       "      <td>13.30</td>\n",
       "      <td>0.0</td>\n",
       "      <td>0.0</td>\n",
       "      <td>2.240710</td>\n",
       "    </tr>\n",
       "    <tr>\n",
       "      <th>2</th>\n",
       "      <td>2</td>\n",
       "      <td>2022-01-01 00:53:21</td>\n",
       "      <td>2022-01-01 01:02:19</td>\n",
       "      <td>1.0</td>\n",
       "      <td>0.97</td>\n",
       "      <td>1.0</td>\n",
       "      <td>N</td>\n",
       "      <td>166</td>\n",
       "      <td>166</td>\n",
       "      <td>1</td>\n",
       "      <td>7.5</td>\n",
       "      <td>0.5</td>\n",
       "      <td>0.5</td>\n",
       "      <td>1.76</td>\n",
       "      <td>0.0</td>\n",
       "      <td>0.3</td>\n",
       "      <td>10.56</td>\n",
       "      <td>0.0</td>\n",
       "      <td>0.0</td>\n",
       "      <td>2.299581</td>\n",
       "    </tr>\n",
       "    <tr>\n",
       "      <th>3</th>\n",
       "      <td>2</td>\n",
       "      <td>2022-01-01 00:25:21</td>\n",
       "      <td>2022-01-01 00:35:23</td>\n",
       "      <td>1.0</td>\n",
       "      <td>1.09</td>\n",
       "      <td>1.0</td>\n",
       "      <td>N</td>\n",
       "      <td>114</td>\n",
       "      <td>68</td>\n",
       "      <td>2</td>\n",
       "      <td>8.0</td>\n",
       "      <td>0.5</td>\n",
       "      <td>0.5</td>\n",
       "      <td>0.00</td>\n",
       "      <td>0.0</td>\n",
       "      <td>0.3</td>\n",
       "      <td>11.80</td>\n",
       "      <td>2.5</td>\n",
       "      <td>0.0</td>\n",
       "      <td>2.400619</td>\n",
       "    </tr>\n",
       "    <tr>\n",
       "      <th>4</th>\n",
       "      <td>2</td>\n",
       "      <td>2022-01-01 00:36:48</td>\n",
       "      <td>2022-01-01 01:14:20</td>\n",
       "      <td>1.0</td>\n",
       "      <td>4.30</td>\n",
       "      <td>1.0</td>\n",
       "      <td>N</td>\n",
       "      <td>68</td>\n",
       "      <td>163</td>\n",
       "      <td>1</td>\n",
       "      <td>23.5</td>\n",
       "      <td>0.5</td>\n",
       "      <td>0.5</td>\n",
       "      <td>3.00</td>\n",
       "      <td>0.0</td>\n",
       "      <td>0.3</td>\n",
       "      <td>30.30</td>\n",
       "      <td>2.5</td>\n",
       "      <td>0.0</td>\n",
       "      <td>3.651437</td>\n",
       "    </tr>\n",
       "  </tbody>\n",
       "</table>\n",
       "</div>"
      ],
      "text/plain": [
       "   VendorID tpep_pickup_datetime tpep_dropoff_datetime  passenger_count  \\\n",
       "0         1  2022-01-01 00:35:40   2022-01-01 00:53:29              2.0   \n",
       "1         1  2022-01-01 00:33:43   2022-01-01 00:42:07              1.0   \n",
       "2         2  2022-01-01 00:53:21   2022-01-01 01:02:19              1.0   \n",
       "3         2  2022-01-01 00:25:21   2022-01-01 00:35:23              1.0   \n",
       "4         2  2022-01-01 00:36:48   2022-01-01 01:14:20              1.0   \n",
       "\n",
       "   trip_distance  RatecodeID store_and_fwd_flag  PULocationID  DOLocationID  \\\n",
       "0           3.80         1.0                  N           142           236   \n",
       "1           2.10         1.0                  N           236            42   \n",
       "2           0.97         1.0                  N           166           166   \n",
       "3           1.09         1.0                  N           114            68   \n",
       "4           4.30         1.0                  N            68           163   \n",
       "\n",
       "   payment_type  fare_amount  extra  mta_tax  tip_amount  tolls_amount  \\\n",
       "0             1         14.5    3.0      0.5        3.65           0.0   \n",
       "1             1          8.0    0.5      0.5        4.00           0.0   \n",
       "2             1          7.5    0.5      0.5        1.76           0.0   \n",
       "3             2          8.0    0.5      0.5        0.00           0.0   \n",
       "4             1         23.5    0.5      0.5        3.00           0.0   \n",
       "\n",
       "   improvement_surcharge  total_amount  congestion_surcharge  airport_fee  \\\n",
       "0                    0.3         21.95                   2.5          0.0   \n",
       "1                    0.3         13.30                   0.0          0.0   \n",
       "2                    0.3         10.56                   0.0          0.0   \n",
       "3                    0.3         11.80                   2.5          0.0   \n",
       "4                    0.3         30.30                   2.5          0.0   \n",
       "\n",
       "   trip_duration  \n",
       "0       2.934920  \n",
       "1       2.240710  \n",
       "2       2.299581  \n",
       "3       2.400619  \n",
       "4       3.651437  "
      ]
     },
     "execution_count": 2,
     "metadata": {},
     "output_type": "execute_result"
    }
   ],
   "source": [
    "# Load Data\n",
    "train_data = load_data(\"data/yellow_tripdata_2022-01.parquet\")\n",
    "test_data = load_data(\"data/yellow_tripdata_2022-02.parquet\")\n",
    "\n",
    "print(f\"Shape of: \\ntrain_data: {train_data.shape}\\ntest_data: {test_data.shape}\\n\")\n",
    "\n",
    "train_data.head()"
   ]
  },
  {
   "cell_type": "markdown",
   "id": "64516618-c7b7-4b76-aa01-10fb193ef87b",
   "metadata": {},
   "source": [
    "### Load Config"
   ]
  },
  {
   "cell_type": "code",
   "execution_count": 3,
   "id": "6781561c-5b5b-4a71-b104-a4fb01246e8a",
   "metadata": {
    "scrolled": true
   },
   "outputs": [],
   "source": [
    "fp = \"config.yml\"\n",
    "\n",
    "with open(fp, \"r\") as file:\n",
    "    config_file = yaml.load(stream=file, Loader=yaml.loader.SafeLoader)\n",
    "\n",
    "config = ConfigVars(\n",
    "    model_config=ModelConfig(**config_file),\n",
    "    mlflow_config=MLFlowConfig(**config_file),\n",
    ")"
   ]
  },
  {
   "cell_type": "markdown",
   "id": "bb41cd43-d0cb-4080-928e-390bc3ef9c74",
   "metadata": {},
   "source": [
    "## Fetching an MLflow Model from the Model Registry\n",
    "\n",
    "After you have registered an MLflow model, you can fetch that model using mlflow.<model_flavor>.load_model(), or more generally, load_model().\n",
    "\n",
    "Fetch a specific model version\n",
    "\n",
    "To fetch a specific model version, just supply that version number as part of the model URI."
   ]
  },
  {
   "cell_type": "code",
   "execution_count": 4,
   "id": "a1654183-8954-4860-a31c-e43e073fc836",
   "metadata": {},
   "outputs": [
    {
     "data": {
      "text/plain": [
       "<Experiment: artifact_location='./mlruns/1', creation_time=1671287433449, experiment_id='1', last_update_time=1671287433449, lifecycle_stage='active', name='sample_experiment', tags={}>"
      ]
     },
     "execution_count": 4,
     "metadata": {},
     "output_type": "execute_result"
    }
   ],
   "source": [
    "mlflow.set_tracking_uri(\"sqlite:///mlflow.db\")\n",
    "mlflow.set_experiment(\"sample_experiment\")"
   ]
  },
  {
   "cell_type": "code",
   "execution_count": 5,
   "id": "6cf9fc22-fc2a-4923-95a5-e372a2cd1b14",
   "metadata": {},
   "outputs": [
    {
     "data": {
      "text/html": [
       "<div>\n",
       "<style scoped>\n",
       "    .dataframe tbody tr th:only-of-type {\n",
       "        vertical-align: middle;\n",
       "    }\n",
       "\n",
       "    .dataframe tbody tr th {\n",
       "        vertical-align: top;\n",
       "    }\n",
       "\n",
       "    .dataframe thead th {\n",
       "        text-align: right;\n",
       "    }\n",
       "</style>\n",
       "<table border=\"1\" class=\"dataframe\">\n",
       "  <thead>\n",
       "    <tr style=\"text-align: right;\">\n",
       "      <th></th>\n",
       "      <th>DOLocationID</th>\n",
       "      <th>payment_type</th>\n",
       "      <th>PULocationID</th>\n",
       "      <th>RatecodeID</th>\n",
       "      <th>tpep_pickup_datetime</th>\n",
       "      <th>trip_distance</th>\n",
       "      <th>VendorID</th>\n",
       "      <th>total_amount</th>\n",
       "    </tr>\n",
       "  </thead>\n",
       "  <tbody>\n",
       "    <tr>\n",
       "      <th>0</th>\n",
       "      <td>82</td>\n",
       "      <td>1</td>\n",
       "      <td>5</td>\n",
       "      <td>NaN</td>\n",
       "      <td>2022-12-16 14:33:43</td>\n",
       "      <td>5.5</td>\n",
       "      <td>2</td>\n",
       "      <td>12.0</td>\n",
       "    </tr>\n",
       "    <tr>\n",
       "      <th>1</th>\n",
       "      <td>72</td>\n",
       "      <td>2</td>\n",
       "      <td>99</td>\n",
       "      <td>2.0</td>\n",
       "      <td>2022-12-18 09:18:03</td>\n",
       "      <td>3.1</td>\n",
       "      <td>1</td>\n",
       "      <td>9.5</td>\n",
       "    </tr>\n",
       "  </tbody>\n",
       "</table>\n",
       "</div>"
      ],
      "text/plain": [
       "   DOLocationID  payment_type  PULocationID  RatecodeID tpep_pickup_datetime  \\\n",
       "0            82             1             5         NaN  2022-12-16 14:33:43   \n",
       "1            72             2            99         2.0  2022-12-18 09:18:03   \n",
       "\n",
       "   trip_distance  VendorID  total_amount  \n",
       "0            5.5         2          12.0  \n",
       "1            3.1         1           9.5  "
      ]
     },
     "execution_count": 5,
     "metadata": {},
     "output_type": "execute_result"
    }
   ],
   "source": [
    "new_data = {\n",
    "    \"DOLocationID\": [82, 72],\n",
    "    \"payment_type\": [1, 2],\n",
    "    \"PULocationID\": [5, 99],\n",
    "    \"RatecodeID\": [np.nan, 2],\n",
    "    \"tpep_pickup_datetime\": [\"2022-12-16 14:33:43\", \"2022-12-18 09:18:03\"],\n",
    "    \"trip_distance\": [5.5, 3.1],\n",
    "    \"VendorID\": [2, 1],\n",
    "    \"total_amount\": [12, 9.5],\n",
    "}\n",
    "\n",
    "df = pd.DataFrame(new_data)\n",
    "# Conevrt to datetime\n",
    "df[\"tpep_pickup_datetime\"] = pd.to_datetime(df[\"tpep_pickup_datetime\"], errors=\"coerce\")\n",
    "df"
   ]
  },
  {
   "cell_type": "code",
   "execution_count": 6,
   "id": "d7f236ec-24c1-49e2-9a2a-36e7500a5ac8",
   "metadata": {
    "scrolled": true
   },
   "outputs": [
    {
     "data": {
      "text/plain": [
       "array([2.25417234, 2.15199791])"
      ]
     },
     "execution_count": 6,
     "metadata": {},
     "output_type": "execute_result"
    }
   ],
   "source": [
    "from mlflow import MlflowClient\n",
    "\n",
    "# Fetch a specific model version\n",
    "client = MlflowClient()\n",
    "model_name = \"random_forest_pipeline\"\n",
    "model_version = 5\n",
    "\n",
    "model = mlflow.pyfunc.load_model(model_uri=f\"models:/{model_name}/{model_version}\")\n",
    "\n",
    "model.predict(df)"
   ]
  },
  {
   "cell_type": "markdown",
   "id": "749ff189-9c81-4000-b5cb-304b0c514c9b",
   "metadata": {},
   "source": [
    "### Adding or Updating an MLflow Model Descriptions\n",
    "At any point in a model’s lifecycle development, you can update a model version’s description using: \n",
    "\n",
    "```python\n",
    "update_model_version().\n",
    "```"
   ]
  },
  {
   "cell_type": "code",
   "execution_count": 7,
   "id": "119c381b-dcaa-4415-b3d5-6b00a1d68719",
   "metadata": {
    "scrolled": true
   },
   "outputs": [
    {
     "data": {
      "text/plain": [
       "<ModelVersion: creation_timestamp=1671311239721, current_stage='None', description='This model version is a scikit-learn model', last_updated_timestamp=1671399844279, name='random_forest_pipeline', run_id='2f4f11a37ec541eab8976fac4ce3537b', run_link=None, source='./mlruns/1/2f4f11a37ec541eab8976fac4ce3537b/artifacts/model', status='READY', status_message=None, tags={}, user_id=None, version=5>"
      ]
     },
     "execution_count": 7,
     "metadata": {},
     "output_type": "execute_result"
    }
   ],
   "source": [
    "client.update_model_version(\n",
    "    name=model_name,\n",
    "    version=model_version,\n",
    "    description=\"This model version is a scikit-learn model\",\n",
    ")"
   ]
  },
  {
   "cell_type": "markdown",
   "id": "94f86d61-4bce-40ae-b7bc-fc19bf87e352",
   "metadata": {},
   "source": [
    "### Renaming an MLflow Model\n",
    "\n",
    "As well as adding or updating a description of a specific version of the model, you can rename an existing registered model using:\n",
    "\n",
    "```python\n",
    "rename_registered_model()\n",
    "```"
   ]
  },
  {
   "cell_type": "code",
   "execution_count": 8,
   "id": "379d0bf5-9a36-4adc-a2e6-5480a911e44d",
   "metadata": {
    "scrolled": true
   },
   "outputs": [],
   "source": [
    "client = MlflowClient()\n",
    "# client.rename_registered_model(name=model_name, new_name=f\"{model_name}_updated\")"
   ]
  },
  {
   "cell_type": "markdown",
   "id": "7a800473-f1a5-40ac-9033-984a4a1df507",
   "metadata": {},
   "source": [
    "### Transitioning an MLflow Model’s Stage\n",
    "\n",
    "Over the course of the model’s lifecycle, a model evolves—from development to staging to production. You can transition a registered model to one of the stages: **`Staging`**, **`Production`** or **`Archived`**:\n",
    "\n",
    "**Note:** The accepted values for <stage> are: Staging|Archived|Production|None.\n",
    "\n",
    "\n",
    "\n",
    "```python\n",
    "rename_registered_model()\n",
    "```"
   ]
  },
  {
   "cell_type": "raw",
   "id": "f592e729-18b3-461c-9df6-d06d3367342d",
   "metadata": {},
   "source": [
    "model_name = \"random_forest_pipeline_updated\"\n",
    "\n",
    "# Move to 'Production'\n",
    "client = MlflowClient()\n",
    "client.transition_model_version_stage(name=model_name, version=3, stage=\"Production\")"
   ]
  },
  {
   "cell_type": "raw",
   "id": "a493839f-1e27-4cb7-a874-aa790ff24654",
   "metadata": {},
   "source": [
    "# Reverse the model name\n",
    "model_name = \"random_forest_pipeline\"\n",
    "\n",
    "client = MlflowClient()\n",
    "client.rename_registered_model(\n",
    "    name=\"random_forest_pipeline_updated\", new_name=f\"{model_name}\"\n",
    ")"
   ]
  },
  {
   "cell_type": "markdown",
   "id": "90fb8779-2228-48fa-9f68-21eb6c996b73",
   "metadata": {},
   "source": [
    "### Listing and Searching MLflow Models\n",
    "You can fetch a list of registered models in the registry with a simple method."
   ]
  },
  {
   "cell_type": "code",
   "execution_count": 9,
   "id": "d81bba0b-18f5-4898-a9ba-8d74688c4467",
   "metadata": {
    "scrolled": true
   },
   "outputs": [
    {
     "name": "stdout",
     "output_type": "stream",
     "text": [
      "{   'creation_timestamp': 1671287864310,\n",
      "    'description': None,\n",
      "    'last_updated_timestamp': 1671311154312,\n",
      "    'latest_versions': [   <ModelVersion: creation_timestamp=1671287864324, current_stage='Archived', description='This is the baseline model.', last_updated_timestamp=1671288530900, name='linear_reg_pipeline', run_id='0dbe5f223eaf44c3bb3229fdd65167a6', run_link=None, source='./mlruns/1/0dbe5f223eaf44c3bb3229fdd65167a6/artifacts/model', status='READY', status_message=None, tags={}, user_id=None, version=1>,\n",
      "                           <ModelVersion: creation_timestamp=1671311154312, current_stage='None', description=None, last_updated_timestamp=1671311154312, name='linear_reg_pipeline', run_id='470a38ffc2794e969618858d745b6099', run_link=None, source='./mlruns/1/470a38ffc2794e969618858d745b6099/artifacts/model', status='READY', status_message=None, tags={}, user_id=None, version=5>],\n",
      "    'name': 'linear_reg_pipeline',\n",
      "    'tags': {}}\n",
      "{   'creation_timestamp': 1671288216010,\n",
      "    'description': None,\n",
      "    'last_updated_timestamp': 1671358222849,\n",
      "    'latest_versions': [   <ModelVersion: creation_timestamp=1671288216022, current_stage='Staging', description='A Random Forest Ensemble Model.', last_updated_timestamp=1671358222849, name='random_forest_pipeline', run_id='3a5f34f7b15c466e9f8e8a81f9b6301d', run_link=None, source='./mlruns/1/3a5f34f7b15c466e9f8e8a81f9b6301d/artifacts/model', status='READY', status_message=None, tags={}, user_id=None, version=1>,\n",
      "                           <ModelVersion: creation_timestamp=1671311239721, current_stage='None', description='This model version is a scikit-learn model', last_updated_timestamp=1671399844279, name='random_forest_pipeline', run_id='2f4f11a37ec541eab8976fac4ce3537b', run_link=None, source='./mlruns/1/2f4f11a37ec541eab8976fac4ce3537b/artifacts/model', status='READY', status_message=None, tags={}, user_id=None, version=5>,\n",
      "                           <ModelVersion: creation_timestamp=1671289308693, current_stage='Production', description='A Random Forest Ensemble Model.', last_updated_timestamp=1671358222849, name='random_forest_pipeline', run_id='cb6d53953f054c8cb528bdc308b227d8', run_link=None, source='./mlruns/1/cb6d53953f054c8cb528bdc308b227d8/artifacts/model', status='READY', status_message=None, tags={'Created by': 'Neidu'}, user_id=None, version=4>],\n",
      "    'name': 'random_forest_pipeline',\n",
      "    'tags': {}}\n",
      "{   'creation_timestamp': 1671316586428,\n",
      "    'description': None,\n",
      "    'last_updated_timestamp': 1671316586442,\n",
      "    'latest_versions': [   <ModelVersion: creation_timestamp=1671316586442, current_stage='None', description=None, last_updated_timestamp=1671316586442, name='rf_model', run_id='10d3949d226f49d29a74cde4fa251690', run_link=None, source='./mlruns/2/10d3949d226f49d29a74cde4fa251690/artifacts/model', status='READY', status_message=None, tags={}, user_id=None, version=1>],\n",
      "    'name': 'rf_model',\n",
      "    'tags': {}}\n"
     ]
    }
   ],
   "source": [
    "from pprint import pprint\n",
    "\n",
    "client = MlflowClient()\n",
    "for rm in client.search_registered_models():\n",
    "    pprint(dict(rm), indent=4)"
   ]
  },
  {
   "cell_type": "markdown",
   "id": "d57e9861-df3c-4fef-9f4a-79c6c7f1a154",
   "metadata": {},
   "source": [
    "### A More Effective Approach"
   ]
  },
  {
   "cell_type": "code",
   "execution_count": 10,
   "id": "208bb6f8-09f1-4145-a459-f9800699e5c3",
   "metadata": {
    "scrolled": true
   },
   "outputs": [
    {
     "name": "stdout",
     "output_type": "stream",
     "text": [
      "{   'creation_timestamp': 1671311239721,\n",
      "    'current_stage': 'None',\n",
      "    'description': 'This model version is a scikit-learn model',\n",
      "    'last_updated_timestamp': 1671399844279,\n",
      "    'name': 'random_forest_pipeline',\n",
      "    'run_id': '2f4f11a37ec541eab8976fac4ce3537b',\n",
      "    'run_link': None,\n",
      "    'source': './mlruns/1/2f4f11a37ec541eab8976fac4ce3537b/artifacts/model',\n",
      "    'status': 'READY',\n",
      "    'status_message': None,\n",
      "    'tags': {},\n",
      "    'user_id': None,\n",
      "    'version': 5}\n",
      "{   'creation_timestamp': 1671288216022,\n",
      "    'current_stage': 'Staging',\n",
      "    'description': 'A Random Forest Ensemble Model.',\n",
      "    'last_updated_timestamp': 1671358222849,\n",
      "    'name': 'random_forest_pipeline',\n",
      "    'run_id': '3a5f34f7b15c466e9f8e8a81f9b6301d',\n",
      "    'run_link': None,\n",
      "    'source': './mlruns/1/3a5f34f7b15c466e9f8e8a81f9b6301d/artifacts/model',\n",
      "    'status': 'READY',\n",
      "    'status_message': None,\n",
      "    'tags': {},\n",
      "    'user_id': None,\n",
      "    'version': 1}\n",
      "{   'creation_timestamp': 1671288776058,\n",
      "    'current_stage': 'None',\n",
      "    'description': None,\n",
      "    'last_updated_timestamp': 1671358222849,\n",
      "    'name': 'random_forest_pipeline',\n",
      "    'run_id': 'd34e6927f7d9473f814aefb6e367a8a5',\n",
      "    'run_link': None,\n",
      "    'source': './mlruns/1/d34e6927f7d9473f814aefb6e367a8a5/artifacts/model',\n",
      "    'status': 'READY',\n",
      "    'status_message': None,\n",
      "    'tags': {},\n",
      "    'user_id': None,\n",
      "    'version': 2}\n",
      "{   'creation_timestamp': 1671288881719,\n",
      "    'current_stage': 'Production',\n",
      "    'description': None,\n",
      "    'last_updated_timestamp': 1671358222849,\n",
      "    'name': 'random_forest_pipeline',\n",
      "    'run_id': 'edb4bfc887f945a4a4376aed7c371803',\n",
      "    'run_link': None,\n",
      "    'source': './mlruns/1/edb4bfc887f945a4a4376aed7c371803/artifacts/model',\n",
      "    'status': 'READY',\n",
      "    'status_message': None,\n",
      "    'tags': {},\n",
      "    'user_id': None,\n",
      "    'version': 3}\n",
      "{   'creation_timestamp': 1671289308693,\n",
      "    'current_stage': 'Production',\n",
      "    'description': 'A Random Forest Ensemble Model.',\n",
      "    'last_updated_timestamp': 1671358222849,\n",
      "    'name': 'random_forest_pipeline',\n",
      "    'run_id': 'cb6d53953f054c8cb528bdc308b227d8',\n",
      "    'run_link': None,\n",
      "    'source': './mlruns/1/cb6d53953f054c8cb528bdc308b227d8/artifacts/model',\n",
      "    'status': 'READY',\n",
      "    'status_message': None,\n",
      "    'tags': {'Created by': 'Neidu'},\n",
      "    'user_id': None,\n",
      "    'version': 4}\n"
     ]
    }
   ],
   "source": [
    "client = MlflowClient()\n",
    "for mv in client.search_model_versions(f\"name='{model_name}'\"):\n",
    "    pprint(dict(mv), indent=4)"
   ]
  },
  {
   "cell_type": "code",
   "execution_count": null,
   "id": "5764a191-968a-4b48-91b4-421e6851589a",
   "metadata": {
    "scrolled": true
   },
   "outputs": [],
   "source": []
  },
  {
   "attachments": {},
   "cell_type": "markdown",
   "id": "b4781080-497f-42ac-bf4a-71702681cf48",
   "metadata": {},
   "source": [
    "# Configure A Remote Tracking Server On AWS\n",
    "\n",
    "The guide can be found [here](https://github.com/chineidu/mlops-zoomcamp/blob/main/02-experiment-tracking/mlflow_on_aws.md)\n",
    "\n",
    "Postgres DB Config:\n",
    "  - db_instance_identifier: enter the value\n",
    "  - db_username: enter the value\n",
    "  - db_password: enter the value\n",
    "  - initial_db_name: enter the value\n",
    "  - db_endpoint: enter the db endpoint\n",
    "\n",
    "S3 Bucket:\n",
    "  - bucket-name\n",
    "  \n",
    "### Install the requirements (on the remote server using ssh)\n",
    "\n",
    "```console\n",
    "$ pip3 install mlflow boto3 psycopg2-binary\n",
    "```\n",
    "  \n",
    "Run the server:\n",
    "\n",
    "```console\n",
    "$ mlflow server -h 0.0.0.0 -p 5000 \\\n",
    "--backend-store-uri postgresql://$DB_USER:$DB_PASSWORD@$DB_ENDPOINT:5432/$DB_NAME \\\n",
    "--default-artifact-root s3://$S3_BUCKET_NAME\n",
    "```\n",
    "\n",
    "### Save The Environment Variables\n",
    "```console\n",
    "$ export DB_USER=\"\" \\ \n",
    "$ export DB_PASSWORD=\"\" \\\n",
    "$ export DB_ENDPOINT=\"\" \\\n",
    "$ export DB_NAME=\"\" \\\n",
    "$ export S3_BUCKET_NAME=\"\"\n",
    "```"
   ]
  },
  {
   "cell_type": "markdown",
   "id": "526625e4-3690-433c-931c-b68c37d4c808",
   "metadata": {},
   "source": [
    " ### Connect Notebook To A Remote Tracking Server\n",
    " \n",
    " For the profile config, check [here](https://docs.aws.amazon.com/cli/latest/userguide/cli-configure-profiles.html)\n",
    " \n",
    " ```python\n",
    " os.environ[\"AWS_PROFILE\"] = \"\" # Fill with your AWS profile:  Check docs linked above.\n",
    " \n",
    " TRACKING_SERVER_HOST = \"ec2-3-93-15-244.compute-1.amazonaws.com\" # Fill in with public DNS of the EC2 instance\n",
    " port = 5000\n",
    " mlflow.set_tracking_uri(f\"http://{TRACKING_SERVER_HOST}:port\")\n",
    " ```"
   ]
  },
  {
   "cell_type": "code",
   "execution_count": 11,
   "id": "3c7b3404-cf1e-44e4-b376-faa46307e4ef",
   "metadata": {
    "scrolled": true
   },
   "outputs": [],
   "source": [
    "import os\n",
    "\n",
    "os.environ[\"AWS_PROFILE\"] = \"default\"\n",
    "TRACKING_SERVER_HOST = \"ec2-3-80-180-139.compute-1.amazonaws.com\"  # Fill in with public DNS of the EC2 instance\n",
    "port = 5000\n",
    "mlflow.set_tracking_uri(f\"http://{TRACKING_SERVER_HOST}:{port}\")"
   ]
  },
  {
   "cell_type": "code",
   "execution_count": 12,
   "id": "50d51dc6-3f50-4930-a1ab-d523f234054d",
   "metadata": {},
   "outputs": [
    {
     "data": {
      "text/plain": [
       "((2165539, 19), (240616, 19))"
      ]
     },
     "execution_count": 12,
     "metadata": {},
     "output_type": "execute_result"
    }
   ],
   "source": [
    "# Split the data\n",
    "X = train_data.drop(columns=[config.model_config.TARGET])\n",
    "y = train_data[config.model_config.TARGET]\n",
    "\n",
    "X_train, X_validate, y_train, y_validate = train_test_split(\n",
    "    X,\n",
    "    y,\n",
    "    test_size=config.model_config.TEST_SIZE,\n",
    "    random_state=config.model_config.RANDOM_STATE,\n",
    ")\n",
    "\n",
    "X_train.shape, X_validate.shape"
   ]
  },
  {
   "cell_type": "code",
   "execution_count": 13,
   "id": "7a918e9c-0b14-43ff-917a-ca7712ecd22a",
   "metadata": {
    "scrolled": true
   },
   "outputs": [
    {
     "data": {
      "text/plain": [
       "Pipeline(steps=[('input vars',\n",
       "                 SelectFeatures(features=['DOLocationID', 'payment_type',\n",
       "                                          'PULocationID', 'RatecodeID',\n",
       "                                          'total_amount',\n",
       "                                          'tpep_pickup_datetime',\n",
       "                                          'trip_distance', 'VendorID'])),\n",
       "                ('add na_flag', AddMissingIndicator(variables=['RatecodeID'])),\n",
       "                ('impute num_vars',\n",
       "                 MeanMedianImputer(variables=['RatecodeID'])),\n",
       "                ('cal day_of_week',\n",
       "                 CalculateDayOfWeek(feature='...\n",
       "                                          'hour_of_day', 'payment_type',\n",
       "                                          'PULocationID', 'RatecodeID',\n",
       "                                          'RatecodeID_na', 'total_amount',\n",
       "                                          'tpep_pickup_datetime',\n",
       "                                          'trip_distance', 'VendorID'])),\n",
       "                ('drop features',\n",
       "                 DropFeatures(features_to_drop=['tpep_pickup_datetime'])),\n",
       "                ('log transformation',\n",
       "                 LogTransformer(variables=['trip_distance', 'total_amount'])),\n",
       "                ('scale data', StandardScaler()),\n",
       "                ('linear model', LinearRegression())])"
      ]
     },
     "execution_count": 13,
     "metadata": {},
     "output_type": "execute_result"
    }
   ],
   "source": [
    "pipe = Pipeline(\n",
    "    steps=[\n",
    "        # ===== Select input features =====\n",
    "        (\n",
    "            \"input vars\",\n",
    "            fe.SelectFeatures(features=config.model_config.INPUT_FEATURES),\n",
    "        ),\n",
    "        # ===== Add NaN flags =====\n",
    "        (\n",
    "            \"add na_flag\",\n",
    "            AddMissingIndicator(\n",
    "                missing_only=True, variables=config.model_config.NUM_VARS_WF_NA\n",
    "            ),\n",
    "        ),\n",
    "        # ===== Impute NaNs =====\n",
    "        (\n",
    "            \"impute num_vars\",\n",
    "            MeanMedianImputer(\n",
    "                imputation_method=\"median\", variables=config.model_config.NUM_VARS_WF_NA\n",
    "            ),\n",
    "        ),\n",
    "        # ===== Create new features =====\n",
    "        (\n",
    "            \"cal day_of_week\",\n",
    "            fe.CalculateDayOfWeek(feature=config.model_config.TEMPORAL_VAR),\n",
    "        ),\n",
    "        (\n",
    "            \"cal hour_of_day\",\n",
    "            fe.CalculateHourOfDay(feature=config.model_config.TEMPORAL_VAR),\n",
    "        ),\n",
    "        # ===== Select features =====\n",
    "        (\n",
    "            \"important vars\",\n",
    "            fe.SelectFeatures(features=config.model_config.IMPORTANT_FEATURES),\n",
    "        ),\n",
    "        # ===== Drop features =====\n",
    "        (\n",
    "            \"drop features\",\n",
    "            DropFeatures(features_to_drop=config.model_config.VARS_TO_DROP),\n",
    "        ),\n",
    "        # ===== Transform features =====\n",
    "        (\n",
    "            \"log transformation\",\n",
    "            LogTransformer(\n",
    "                variables=config.model_config.VARS_TO_LOG_TRANSFORM, base=\"e\"\n",
    "            ),\n",
    "        ),\n",
    "        # ===== Scale features =====\n",
    "        (\"scale data\", StandardScaler()),\n",
    "        # ===== Linear model =====\n",
    "        (\"linear model\", LinearRegression()),\n",
    "    ]\n",
    ")\n",
    "pipe"
   ]
  },
  {
   "cell_type": "markdown",
   "id": "8c9b4e8c-220d-4c03-8752-8a6c99b9477c",
   "metadata": {},
   "source": [
    "### Track An Experiment"
   ]
  },
  {
   "cell_type": "code",
   "execution_count": 14,
   "id": "b78f0a36-220e-435d-a649-3790ede2f429",
   "metadata": {
    "scrolled": true
   },
   "outputs": [
    {
     "name": "stderr",
     "output_type": "stream",
     "text": [
      "2022/12/18 22:46:41 INFO mlflow.tracking.fluent: Experiment with name 'Demo_experiment' does not exist. Creating a new experiment.\n",
      "INFO :: 2022-12-18 22:46:43,522 :: ========= Training The Model =========\n"
     ]
    },
    {
     "name": "stdout",
     "output_type": "stream",
     "text": [
      "  RMSE: 0.2896738945525108\n",
      "  MSE: 0.08391096518521914\n",
      "  MAE: 0.21940251433736507\n",
      "  R2: 0.7795462515192009\n"
     ]
    },
    {
     "name": "stderr",
     "output_type": "stream",
     "text": [
      "INFO :: 2022-12-18 22:46:56,254 :: Found credentials in shared credentials file: ~/.aws/credentials\n",
      "Successfully registered model 'LinearModel'.\n",
      "2022/12/18 22:47:01 INFO mlflow.tracking._model_registry.client: Waiting up to 300 seconds for model version to finish creation.                     Model name: LinearModel, version 1\n",
      "Created version '1' of model 'LinearModel'.\n",
      "INFO :: 2022-12-18 22:47:01,924 :: ========= Training Done! =========\n"
     ]
    }
   ],
   "source": [
    "warnings.filterwarnings(\"ignore\")  # Required\n",
    "\n",
    "delim = \"::\"\n",
    "format_ = f\"%(levelname)s {delim} %(asctime)s {delim} %(message)s\"\n",
    "logging.basicConfig(level=logging.INFO, format=format_)\n",
    "logger = logging.getLogger(__name__)\n",
    "\n",
    "\n",
    "def eval_metrics(actual: np.ndarray, pred: np.ndarray) -> tp.Tuple:\n",
    "    \"\"\"This is used to evaluate the performance of the model.\"\"\"\n",
    "    rmse = metrics.mean_squared_error(actual, pred, squared=False)\n",
    "    mse = metrics.mean_squared_error(actual, pred, squared=True)\n",
    "    mae = metrics.mean_absolute_error(actual, pred)\n",
    "    r2 = metrics.r2_score(actual, pred)\n",
    "\n",
    "    return (rmse, mse, mae, r2)\n",
    "\n",
    "\n",
    "mlflow.set_tracking_uri(f\"http://{TRACKING_SERVER_HOST}:{port}\")\n",
    "mlflow.set_experiment(\"Demo_experiment\")\n",
    "\n",
    "with mlflow.start_run():\n",
    "    logger.info(\"========= Training The Model =========\")\n",
    "    pipe.fit(X_train, y_train)\n",
    "\n",
    "    y_pred = pipe.predict(X_validate)\n",
    "\n",
    "    (rmse, mse, mae, r2) = eval_metrics(y_validate, y_pred)\n",
    "\n",
    "    print(f\"  RMSE: {rmse}\")\n",
    "    print(f\"  MSE: {mse}\")\n",
    "    print(f\"  MAE: {mae}\")\n",
    "    print(f\"  R2: {r2}\")\n",
    "\n",
    "    mlflow.log_metrics({\"RMSE\": rmse, \"MSE\": mse, \"MAE\": mae, \"R2\": r2})\n",
    "\n",
    "    mlflow.sklearn.log_model(pipe, \"model\", registered_model_name=\"LinearModel\")\n",
    "    logger.info(\"========= Training Done! =========\")"
   ]
  },
  {
   "attachments": {},
   "cell_type": "markdown",
   "id": "e24b0054",
   "metadata": {},
   "source": [
    "## Run The Server Locally With A Remote Model Registry (S3)\n",
    "\n",
    "### Requirements:\n",
    "Tracking URI:\n",
    "  - tracking_uri\n",
    "  \n",
    "S3 Bucket:\n",
    "  - bucket-name\n",
    "  \n",
    "### Install the requirements (on the remote server using ssh)\n",
    "\n",
    "```console\n",
    "$ pip3 install mlflow boto3\n",
    "```\n",
    "\n",
    "### Save The Environment Variables\n",
    "```console\n",
    "$ export DB_NAME=mlflow.db \\\n",
    "$ export S3_BUCKET_NAME=my-unique-bucket\n",
    "```\n",
    "\n",
    "#### Run the server:\n",
    "```console\n",
    "$ mlflow server --backend-store-uri 'db_type:///path_to_db' \\\n",
    "--default-artifact-root s3://$S3_BUCKET_NAME\n",
    "\n",
    "# E.g\n",
    "$ mlflow server --backend-store-uri sqlite:///$DB_NAME \\\n",
    "--default-artifact-root s3://$S3_BUCKET_NAME\n",
    "```\n",
    "<br>\n",
    "\n",
    "```python\n",
    "# Note: Ensure you run the script and the server in the same directory.\n",
    "TRACKING_SERVER_HOST = \"http://127.0.0.1\"  # localhost\n",
    "PORT = 5000  # Default\n",
    "TRACKING_URI = f\"{TRACKING_SERVER_HOST}:{PORT}\"\n",
    "\n",
    "# OR (Preferred approach)\n",
    "TRACKING_URI = \"sqlite:///mlflow.db\"\n",
    "\n",
    "mlflow.set_tracking_uri(TRACKING_URI)\n",
    "```\n",
    "\\\n",
    "The other steps are the same. Continue with the experimentation.\n",
    "\n",
    "\n",
    "```python\n",
    "mlflow.set_tracking_uri(TRACKING_URI)\n",
    "mlflow.set_experiment(\"Experiment_name\")\n",
    "\n",
    "with mlflow.start_run():\n",
    "    logger.info(\"========= Training The Model =========\")\n",
    "    pipe.fit(X_train, y_train)\n",
    "\n",
    "    y_pred = pipe.predict(X_validate)\n",
    "\n",
    "    (rmse, mse, mae, r2) = eval_metrics(y_validate, y_pred)\n",
    "\n",
    "    print(f\"  RMSE: {rmse}\")\n",
    "    print(f\"  MSE: {mse}\")\n",
    "    print(f\"  MAE: {mae}\")\n",
    "    print(f\"  R2: {r2}\")\n",
    "\n",
    "    mlflow.log_metrics({\"RMSE\": rmse, \"MSE\": mse, \"MAE\": mae, \"R2\": r2})\n",
    "\n",
    "    mlflow.sklearn.log_model(pipe, artifact_path=\"model\", registered_model_name=\"LinearModel\")\n",
    "    logger.info(\"========= Training Done! =========\")\n",
    "```"
   ]
  },
  {
   "cell_type": "code",
   "execution_count": null,
   "id": "de66b384-ac46-4a5d-809b-217dab8c8e69",
   "metadata": {
    "scrolled": true
   },
   "outputs": [],
   "source": []
  },
  {
   "cell_type": "code",
   "execution_count": null,
   "id": "6694afb4-03f0-4b9a-aefe-83755c6187e5",
   "metadata": {
    "scrolled": true
   },
   "outputs": [],
   "source": []
  },
  {
   "cell_type": "code",
   "execution_count": null,
   "id": "ab326019-f615-410d-874b-ee7e4d087c34",
   "metadata": {
    "scrolled": true
   },
   "outputs": [],
   "source": []
  }
 ],
 "metadata": {
  "kernelspec": {
   "display_name": "Python3.10 (mlflow)",
   "language": "python",
   "name": "mlflow_env_p310"
  },
  "language_info": {
   "codemirror_mode": {
    "name": "ipython",
    "version": 3
   },
   "file_extension": ".py",
   "mimetype": "text/x-python",
   "name": "python",
   "nbconvert_exporter": "python",
   "pygments_lexer": "ipython3",
   "version": "3.10.8 (main, Nov 24 2022, 08:09:04) [Clang 14.0.6 ]"
  }
 },
 "nbformat": 4,
 "nbformat_minor": 5
}
