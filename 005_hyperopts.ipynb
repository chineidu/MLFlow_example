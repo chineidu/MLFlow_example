{
 "cells": [
  {
   "cell_type": "markdown",
   "id": "05d5cdb8-802d-4a28-a70c-f77f5ac41917",
   "metadata": {},
   "source": [
    "# Using Hyperopt"
   ]
  },
  {
   "cell_type": "code",
   "execution_count": 1,
   "id": "9fa75d55-56f3-480f-8809-e7e26393c09a",
   "metadata": {
    "scrolled": true,
    "tags": []
   },
   "outputs": [],
   "source": [
    "# Standard imports\n",
    "import numpy as np\n",
    "import pandas as pd\n",
    "from pydantic import BaseModel, ValidationError\n",
    "import yaml\n",
    "\n",
    "# Visualization\n",
    "import matplotlib.pyplot as plt\n",
    "import seaborn as sns\n",
    "\n",
    "sns.set()\n",
    "\n",
    "# Built-in library\n",
    "import itertools\n",
    "import re\n",
    "import json\n",
    "import typing as tp\n",
    "import logging\n",
    "\n",
    "import warnings\n",
    "\n",
    "warnings.filterwarnings(\"error\")\n",
    "\n",
    "# for saving the pipeline\n",
    "import joblib\n",
    "\n",
    "# MLFlow\n",
    "import mlflow\n",
    "\n",
    "# from Scikit-learn\n",
    "from sklearn.model_selection import train_test_split\n",
    "from sklearn.preprocessing import StandardScaler, MinMaxScaler, Binarizer\n",
    "from sklearn.pipeline import Pipeline\n",
    "from sklearn.base import BaseEstimator, TransformerMixin\n",
    "from sklearn.linear_model import LinearRegression, Lasso\n",
    "from sklearn.ensemble import RandomForestRegressor\n",
    "from sklearn import metrics, set_config\n",
    "\n",
    "# Pipeline Display\n",
    "set_config(display=\"text\")\n",
    "\n",
    "# from feature-engine\n",
    "from feature_engine.imputation import (\n",
    "    AddMissingIndicator,\n",
    "    MeanMedianImputer,\n",
    ")\n",
    "\n",
    "from feature_engine.transformation import (\n",
    "    LogTransformer,\n",
    "    YeoJohnsonTransformer,\n",
    ")\n",
    "\n",
    "from feature_engine.selection import DropFeatures\n",
    "\n",
    "# Custom Imports\n",
    "from data_manager import load_data, validate_input\n",
    "import feat_engineering as fe\n",
    "from schema import (\n",
    "    InputSchema,\n",
    "    ValidateTrainingData,\n",
    "    ModelConfig,\n",
    "    MLFlowConfig,\n",
    "    ConfigVars,\n",
    ")\n",
    "import utilities as util\n",
    "\n",
    "# pandas settings\n",
    "pd.options.display.max_rows = 1_000\n",
    "pd.options.display.max_columns = 1_000\n",
    "pd.options.display.max_colwidth = 600\n",
    "\n",
    "# Black code formatter (Optional)\n",
    "%load_ext lab_black\n",
    "# auto reload imports\n",
    "%load_ext autoreload\n",
    "%autoreload 2"
   ]
  },
  {
   "cell_type": "code",
   "execution_count": 2,
   "id": "721c427c-04c8-4eda-ad12-30b50c3aff86",
   "metadata": {
    "scrolled": true
   },
   "outputs": [
    {
     "name": "stdout",
     "output_type": "stream",
     "text": [
      "Shape of: \n",
      "train_data: (2406155, 20)\n",
      "test_data: (2901257, 20)\n",
      "\n"
     ]
    },
    {
     "data": {
      "text/html": [
       "<div>\n",
       "<style scoped>\n",
       "    .dataframe tbody tr th:only-of-type {\n",
       "        vertical-align: middle;\n",
       "    }\n",
       "\n",
       "    .dataframe tbody tr th {\n",
       "        vertical-align: top;\n",
       "    }\n",
       "\n",
       "    .dataframe thead th {\n",
       "        text-align: right;\n",
       "    }\n",
       "</style>\n",
       "<table border=\"1\" class=\"dataframe\">\n",
       "  <thead>\n",
       "    <tr style=\"text-align: right;\">\n",
       "      <th></th>\n",
       "      <th>VendorID</th>\n",
       "      <th>tpep_pickup_datetime</th>\n",
       "      <th>tpep_dropoff_datetime</th>\n",
       "      <th>passenger_count</th>\n",
       "      <th>trip_distance</th>\n",
       "      <th>RatecodeID</th>\n",
       "      <th>store_and_fwd_flag</th>\n",
       "      <th>PULocationID</th>\n",
       "      <th>DOLocationID</th>\n",
       "      <th>payment_type</th>\n",
       "      <th>fare_amount</th>\n",
       "      <th>extra</th>\n",
       "      <th>mta_tax</th>\n",
       "      <th>tip_amount</th>\n",
       "      <th>tolls_amount</th>\n",
       "      <th>improvement_surcharge</th>\n",
       "      <th>total_amount</th>\n",
       "      <th>congestion_surcharge</th>\n",
       "      <th>airport_fee</th>\n",
       "      <th>trip_duration</th>\n",
       "    </tr>\n",
       "  </thead>\n",
       "  <tbody>\n",
       "    <tr>\n",
       "      <th>0</th>\n",
       "      <td>1</td>\n",
       "      <td>2022-01-01 00:35:40</td>\n",
       "      <td>2022-01-01 00:53:29</td>\n",
       "      <td>2.0</td>\n",
       "      <td>3.80</td>\n",
       "      <td>1.0</td>\n",
       "      <td>N</td>\n",
       "      <td>142</td>\n",
       "      <td>236</td>\n",
       "      <td>1</td>\n",
       "      <td>14.5</td>\n",
       "      <td>3.0</td>\n",
       "      <td>0.5</td>\n",
       "      <td>3.65</td>\n",
       "      <td>0.0</td>\n",
       "      <td>0.3</td>\n",
       "      <td>21.95</td>\n",
       "      <td>2.5</td>\n",
       "      <td>0.0</td>\n",
       "      <td>2.934920</td>\n",
       "    </tr>\n",
       "    <tr>\n",
       "      <th>1</th>\n",
       "      <td>1</td>\n",
       "      <td>2022-01-01 00:33:43</td>\n",
       "      <td>2022-01-01 00:42:07</td>\n",
       "      <td>1.0</td>\n",
       "      <td>2.10</td>\n",
       "      <td>1.0</td>\n",
       "      <td>N</td>\n",
       "      <td>236</td>\n",
       "      <td>42</td>\n",
       "      <td>1</td>\n",
       "      <td>8.0</td>\n",
       "      <td>0.5</td>\n",
       "      <td>0.5</td>\n",
       "      <td>4.00</td>\n",
       "      <td>0.0</td>\n",
       "      <td>0.3</td>\n",
       "      <td>13.30</td>\n",
       "      <td>0.0</td>\n",
       "      <td>0.0</td>\n",
       "      <td>2.240710</td>\n",
       "    </tr>\n",
       "    <tr>\n",
       "      <th>2</th>\n",
       "      <td>2</td>\n",
       "      <td>2022-01-01 00:53:21</td>\n",
       "      <td>2022-01-01 01:02:19</td>\n",
       "      <td>1.0</td>\n",
       "      <td>0.97</td>\n",
       "      <td>1.0</td>\n",
       "      <td>N</td>\n",
       "      <td>166</td>\n",
       "      <td>166</td>\n",
       "      <td>1</td>\n",
       "      <td>7.5</td>\n",
       "      <td>0.5</td>\n",
       "      <td>0.5</td>\n",
       "      <td>1.76</td>\n",
       "      <td>0.0</td>\n",
       "      <td>0.3</td>\n",
       "      <td>10.56</td>\n",
       "      <td>0.0</td>\n",
       "      <td>0.0</td>\n",
       "      <td>2.299581</td>\n",
       "    </tr>\n",
       "    <tr>\n",
       "      <th>3</th>\n",
       "      <td>2</td>\n",
       "      <td>2022-01-01 00:25:21</td>\n",
       "      <td>2022-01-01 00:35:23</td>\n",
       "      <td>1.0</td>\n",
       "      <td>1.09</td>\n",
       "      <td>1.0</td>\n",
       "      <td>N</td>\n",
       "      <td>114</td>\n",
       "      <td>68</td>\n",
       "      <td>2</td>\n",
       "      <td>8.0</td>\n",
       "      <td>0.5</td>\n",
       "      <td>0.5</td>\n",
       "      <td>0.00</td>\n",
       "      <td>0.0</td>\n",
       "      <td>0.3</td>\n",
       "      <td>11.80</td>\n",
       "      <td>2.5</td>\n",
       "      <td>0.0</td>\n",
       "      <td>2.400619</td>\n",
       "    </tr>\n",
       "    <tr>\n",
       "      <th>4</th>\n",
       "      <td>2</td>\n",
       "      <td>2022-01-01 00:36:48</td>\n",
       "      <td>2022-01-01 01:14:20</td>\n",
       "      <td>1.0</td>\n",
       "      <td>4.30</td>\n",
       "      <td>1.0</td>\n",
       "      <td>N</td>\n",
       "      <td>68</td>\n",
       "      <td>163</td>\n",
       "      <td>1</td>\n",
       "      <td>23.5</td>\n",
       "      <td>0.5</td>\n",
       "      <td>0.5</td>\n",
       "      <td>3.00</td>\n",
       "      <td>0.0</td>\n",
       "      <td>0.3</td>\n",
       "      <td>30.30</td>\n",
       "      <td>2.5</td>\n",
       "      <td>0.0</td>\n",
       "      <td>3.651437</td>\n",
       "    </tr>\n",
       "  </tbody>\n",
       "</table>\n",
       "</div>"
      ],
      "text/plain": [
       "   VendorID tpep_pickup_datetime tpep_dropoff_datetime  passenger_count  \\\n",
       "0         1  2022-01-01 00:35:40   2022-01-01 00:53:29              2.0   \n",
       "1         1  2022-01-01 00:33:43   2022-01-01 00:42:07              1.0   \n",
       "2         2  2022-01-01 00:53:21   2022-01-01 01:02:19              1.0   \n",
       "3         2  2022-01-01 00:25:21   2022-01-01 00:35:23              1.0   \n",
       "4         2  2022-01-01 00:36:48   2022-01-01 01:14:20              1.0   \n",
       "\n",
       "   trip_distance  RatecodeID store_and_fwd_flag  PULocationID  DOLocationID  \\\n",
       "0           3.80         1.0                  N           142           236   \n",
       "1           2.10         1.0                  N           236            42   \n",
       "2           0.97         1.0                  N           166           166   \n",
       "3           1.09         1.0                  N           114            68   \n",
       "4           4.30         1.0                  N            68           163   \n",
       "\n",
       "   payment_type  fare_amount  extra  mta_tax  tip_amount  tolls_amount  \\\n",
       "0             1         14.5    3.0      0.5        3.65           0.0   \n",
       "1             1          8.0    0.5      0.5        4.00           0.0   \n",
       "2             1          7.5    0.5      0.5        1.76           0.0   \n",
       "3             2          8.0    0.5      0.5        0.00           0.0   \n",
       "4             1         23.5    0.5      0.5        3.00           0.0   \n",
       "\n",
       "   improvement_surcharge  total_amount  congestion_surcharge  airport_fee  \\\n",
       "0                    0.3         21.95                   2.5          0.0   \n",
       "1                    0.3         13.30                   0.0          0.0   \n",
       "2                    0.3         10.56                   0.0          0.0   \n",
       "3                    0.3         11.80                   2.5          0.0   \n",
       "4                    0.3         30.30                   2.5          0.0   \n",
       "\n",
       "   trip_duration  \n",
       "0       2.934920  \n",
       "1       2.240710  \n",
       "2       2.299581  \n",
       "3       2.400619  \n",
       "4       3.651437  "
      ]
     },
     "execution_count": 2,
     "metadata": {},
     "output_type": "execute_result"
    }
   ],
   "source": [
    "# Load Data\n",
    "train_data = load_data(\"data/yellow_tripdata_2022-01.parquet\")\n",
    "test_data = load_data(\"data/yellow_tripdata_2022-02.parquet\")\n",
    "\n",
    "print(f\"Shape of: \\ntrain_data: {train_data.shape}\\ntest_data: {test_data.shape}\\n\")\n",
    "\n",
    "train_data.head()"
   ]
  },
  {
   "cell_type": "markdown",
   "id": "3f09fabc-850a-4510-b611-5c4796090d89",
   "metadata": {},
   "source": [
    "### Load Config"
   ]
  },
  {
   "cell_type": "code",
   "execution_count": 3,
   "id": "ad6d5463-1075-4f47-9b9a-0659451e4a81",
   "metadata": {
    "scrolled": true
   },
   "outputs": [],
   "source": [
    "fp = \"config.yml\"\n",
    "\n",
    "with open(fp, \"r\") as file:\n",
    "    config_file = yaml.load(stream=file, Loader=yaml.loader.SafeLoader)\n",
    "\n",
    "config = ConfigVars(\n",
    "    model_config=ModelConfig(**config_file),\n",
    "    mlflow_config=MLFlowConfig(**config_file),\n",
    ")"
   ]
  },
  {
   "cell_type": "code",
   "execution_count": 4,
   "id": "a912bb78-7c74-4955-81cf-ef5856c0f4a5",
   "metadata": {
    "scrolled": true
   },
   "outputs": [
    {
     "data": {
      "text/plain": [
       "((2165539, 19), (240616, 19))"
      ]
     },
     "execution_count": 4,
     "metadata": {},
     "output_type": "execute_result"
    }
   ],
   "source": [
    "# Split the data\n",
    "X = train_data.drop(columns=[config.model_config.TARGET])\n",
    "y = train_data[config.model_config.TARGET]\n",
    "\n",
    "X_train, X_validate, y_train, y_validate = train_test_split(\n",
    "    X,\n",
    "    y,\n",
    "    test_size=config.model_config.TEST_SIZE,\n",
    "    random_state=config.model_config.RANDOM_STATE,\n",
    ")\n",
    "\n",
    "X_train.shape, X_validate.shape"
   ]
  },
  {
   "cell_type": "code",
   "execution_count": 5,
   "id": "f0b1da82-1acd-47b5-9509-07eeb5243df4",
   "metadata": {
    "scrolled": true
   },
   "outputs": [
    {
     "data": {
      "text/plain": [
       "Pipeline(steps=[('input vars',\n",
       "                 SelectFeatures(features=['DOLocationID', 'payment_type',\n",
       "                                          'PULocationID', 'RatecodeID',\n",
       "                                          'total_amount',\n",
       "                                          'tpep_pickup_datetime',\n",
       "                                          'trip_distance', 'VendorID'])),\n",
       "                ('add na_flag', AddMissingIndicator(variables=['RatecodeID'])),\n",
       "                ('impute num_vars',\n",
       "                 MeanMedianImputer(variables=['RatecodeID'])),\n",
       "                ('cal day_of_week',\n",
       "                 CalculateDayOfWeek(feature='...\n",
       "                                          'hour_of_day', 'payment_type',\n",
       "                                          'PULocationID', 'RatecodeID',\n",
       "                                          'RatecodeID_na', 'total_amount',\n",
       "                                          'tpep_pickup_datetime',\n",
       "                                          'trip_distance', 'VendorID'])),\n",
       "                ('drop vars',\n",
       "                 DropFeatures(features_to_drop=['tpep_pickup_datetime'])),\n",
       "                ('log transformation',\n",
       "                 LogTransformer(variables=['trip_distance', 'total_amount'])),\n",
       "                ('scale data', StandardScaler()),\n",
       "                ('linear model', LinearRegression())])"
      ]
     },
     "execution_count": 5,
     "metadata": {},
     "output_type": "execute_result"
    }
   ],
   "source": [
    "pipe = Pipeline(\n",
    "    steps=[\n",
    "        # ===== Select input features =====\n",
    "        (\n",
    "            \"input vars\",\n",
    "            fe.SelectFeatures(features=config.model_config.INPUT_FEATURES),\n",
    "        ),\n",
    "        # ===== Add NaN flags =====\n",
    "        (\n",
    "            \"add na_flag\",\n",
    "            AddMissingIndicator(\n",
    "                missing_only=True, variables=config.model_config.NUM_VARS_WF_NA\n",
    "            ),\n",
    "        ),\n",
    "        # ===== Impute NaNs =====\n",
    "        (\n",
    "            \"impute num_vars\",\n",
    "            MeanMedianImputer(\n",
    "                imputation_method=\"median\", variables=config.model_config.NUM_VARS_WF_NA\n",
    "            ),\n",
    "        ),\n",
    "        # ===== Create new features =====\n",
    "        (\n",
    "            \"cal day_of_week\",\n",
    "            fe.CalculateDayOfWeek(feature=config.model_config.TEMPORAL_VAR),\n",
    "        ),\n",
    "        (\n",
    "            \"cal hour_of_day\",\n",
    "            fe.CalculateHourOfDay(feature=config.model_config.TEMPORAL_VAR),\n",
    "        ),\n",
    "        # ===== Select features =====\n",
    "        (\n",
    "            \"important vars\",\n",
    "            fe.SelectFeatures(features=config.model_config.IMPORTANT_FEATURES),\n",
    "        ),\n",
    "        # ===== Drop features =====\n",
    "        (\"drop vars\", DropFeatures(features_to_drop=config.model_config.VARS_TO_DROP)),\n",
    "        # ===== Transform features =====\n",
    "        (\n",
    "            \"log transformation\",\n",
    "            LogTransformer(\n",
    "                variables=config.model_config.VARS_TO_LOG_TRANSFORM, base=\"e\"\n",
    "            ),\n",
    "        ),\n",
    "        # ===== Scale features =====\n",
    "        (\"scale data\", StandardScaler()),\n",
    "        # ===== Linear model =====\n",
    "        (\"linear model\", LinearRegression()),\n",
    "    ]\n",
    ")\n",
    "\n",
    "pipe"
   ]
  },
  {
   "cell_type": "code",
   "execution_count": 6,
   "id": "78d2e4da-2f39-47d9-ae33-3ec5a58ef4be",
   "metadata": {
    "scrolled": true
   },
   "outputs": [],
   "source": [
    "warnings.filterwarnings(\"ignore\")  # Required\n",
    "\n",
    "delim = \"::\"\n",
    "format_ = f\"%(levelname)s {delim} %(asctime)s {delim} %(message)s\"\n",
    "logging.basicConfig(level=logging.INFO, format=format_)\n",
    "logger = logging.getLogger(__name__)"
   ]
  },
  {
   "cell_type": "code",
   "execution_count": 7,
   "id": "c0afeced-6604-43eb-883c-a3a11e7458f4",
   "metadata": {
    "scrolled": true
   },
   "outputs": [
    {
     "name": "stderr",
     "output_type": "stream",
     "text": [
      "INFO :: 2022-12-17 22:31:57,333 :: ===== Loading Processor Pipeline =====\n",
      "INFO :: 2022-12-17 22:31:57,337 :: ===== Loading Processor Pipeline Done!=====\n"
     ]
    }
   ],
   "source": [
    "logger.info(\"===== Loading Processor Pipeline =====\")\n",
    "\n",
    "# Load Preprocessing Pipeline\n",
    "fp = \"models/processor_pipeline.joblib\"\n",
    "\n",
    "with open(fp, \"rb\") as file:\n",
    "    preprocessing_pipeline = joblib.load(filename=file)\n",
    "\n",
    "logger.info(\"===== Loading Processor Pipeline Done!=====\")"
   ]
  },
  {
   "cell_type": "code",
   "execution_count": 8,
   "id": "ab43b777-d53b-4573-922f-30d7476ed154",
   "metadata": {
    "scrolled": true
   },
   "outputs": [
    {
     "data": {
      "text/html": [
       "<div>\n",
       "<style scoped>\n",
       "    .dataframe tbody tr th:only-of-type {\n",
       "        vertical-align: middle;\n",
       "    }\n",
       "\n",
       "    .dataframe tbody tr th {\n",
       "        vertical-align: top;\n",
       "    }\n",
       "\n",
       "    .dataframe thead th {\n",
       "        text-align: right;\n",
       "    }\n",
       "</style>\n",
       "<table border=\"1\" class=\"dataframe\">\n",
       "  <thead>\n",
       "    <tr style=\"text-align: right;\">\n",
       "      <th></th>\n",
       "      <th>day_of_week</th>\n",
       "      <th>DOLocationID</th>\n",
       "      <th>hour_of_day</th>\n",
       "      <th>payment_type</th>\n",
       "      <th>PULocationID</th>\n",
       "      <th>RatecodeID</th>\n",
       "      <th>RatecodeID_na</th>\n",
       "      <th>total_amount</th>\n",
       "      <th>trip_distance</th>\n",
       "      <th>VendorID</th>\n",
       "    </tr>\n",
       "  </thead>\n",
       "  <tbody>\n",
       "    <tr>\n",
       "      <th>0</th>\n",
       "      <td>5</td>\n",
       "      <td>236</td>\n",
       "      <td>5</td>\n",
       "      <td>1</td>\n",
       "      <td>142</td>\n",
       "      <td>1.0</td>\n",
       "      <td>0</td>\n",
       "      <td>3.088767</td>\n",
       "      <td>1.335001</td>\n",
       "      <td>1</td>\n",
       "    </tr>\n",
       "    <tr>\n",
       "      <th>1</th>\n",
       "      <td>5</td>\n",
       "      <td>42</td>\n",
       "      <td>5</td>\n",
       "      <td>1</td>\n",
       "      <td>236</td>\n",
       "      <td>1.0</td>\n",
       "      <td>0</td>\n",
       "      <td>2.587764</td>\n",
       "      <td>0.741937</td>\n",
       "      <td>1</td>\n",
       "    </tr>\n",
       "    <tr>\n",
       "      <th>2</th>\n",
       "      <td>5</td>\n",
       "      <td>166</td>\n",
       "      <td>5</td>\n",
       "      <td>1</td>\n",
       "      <td>166</td>\n",
       "      <td>1.0</td>\n",
       "      <td>0</td>\n",
       "      <td>2.357073</td>\n",
       "      <td>-0.030459</td>\n",
       "      <td>2</td>\n",
       "    </tr>\n",
       "  </tbody>\n",
       "</table>\n",
       "</div>"
      ],
      "text/plain": [
       "   day_of_week  DOLocationID  hour_of_day  payment_type  PULocationID  \\\n",
       "0            5           236            5             1           142   \n",
       "1            5            42            5             1           236   \n",
       "2            5           166            5             1           166   \n",
       "\n",
       "   RatecodeID  RatecodeID_na  total_amount  trip_distance  VendorID  \n",
       "0         1.0              0      3.088767       1.335001         1  \n",
       "1         1.0              0      2.587764       0.741937         1  \n",
       "2         1.0              0      2.357073      -0.030459         2  "
      ]
     },
     "execution_count": 8,
     "metadata": {},
     "output_type": "execute_result"
    }
   ],
   "source": [
    "columns = [\n",
    "    \"day_of_week\",\n",
    "    \"DOLocationID\",\n",
    "    \"hour_of_day\",\n",
    "    \"payment_type\",\n",
    "    \"PULocationID\",\n",
    "    \"RatecodeID\",\n",
    "    \"RatecodeID_na\",\n",
    "    \"total_amount\",\n",
    "    \"trip_distance\",\n",
    "    \"VendorID\",\n",
    "]\n",
    "transformed_X = preprocessing_pipeline.transform(X)\n",
    "transformed_X = pd.DataFrame(transformed_X, columns=columns)\n",
    "\n",
    "transformed_X.head(3)"
   ]
  },
  {
   "cell_type": "markdown",
   "id": "05bdfbe5-fe35-4977-859e-aa535f3304b0",
   "metadata": {},
   "source": [
    "## Using Hyperopt"
   ]
  },
  {
   "cell_type": "code",
   "execution_count": 10,
   "id": "d21589cf-04ed-4fa0-975f-0acc637bdd32",
   "metadata": {
    "scrolled": true
   },
   "outputs": [],
   "source": [
    "from sklearn.model_selection import cross_val_score\n",
    "from sklearn.svm import SVC\n",
    "from hyperopt import fmin, tpe, hp, STATUS_OK, Trials, space_eval\n",
    "from hyperopt.pyll import scope"
   ]
  },
  {
   "cell_type": "markdown",
   "id": "d9311b46-1963-48eb-b65c-09b93cca9a44",
   "metadata": {},
   "source": [
    "#### hp.quniform\n",
    "\n",
    "```Python\n",
    "hp.quniform(label, low, high, q)\n",
    "\n",
    "```\n",
    "\n",
    "```\n",
    "Returns a value like round(uniform(low, high) / q) * q\n",
    "Suitable for a discrete value with respect to which the objective is \n",
    "still somewhat \"smooth\", but which should be bounded both above and below.\n",
    "```\n",
    "\n",
    "```python\n",
    "\"max_depth\": scope.int(hp.quniform(\"max_depth\", 2, 10, 1)),\n",
    "```"
   ]
  },
  {
   "cell_type": "code",
   "execution_count": 11,
   "id": "9a83d5a2-3365-4469-8cf7-1ba4a17ce74d",
   "metadata": {
    "scrolled": true
   },
   "outputs": [],
   "source": [
    "# Defining Objective function whose loss we have to minimize\n",
    "def objective(args):\n",
    "\n",
    "    if args.get(\"type\") == \"rf_model\":\n",
    "        clf = RandomForestRegressor()\n",
    "\n",
    "    elif args.get(\"type\") == \"linear_model\":\n",
    "        clf = LinearRegression()\n",
    "\n",
    "    clf.set_params(**args[\"params\"])\n",
    "\n",
    "    score = cross_val_score(clf, transformed_X, y, cv=5, n_jobs=-1, error_score=0.99)\n",
    "    return {\"loss\": 1 - np.median(score), \"status\": STATUS_OK}"
   ]
  },
  {
   "cell_type": "code",
   "execution_count": 12,
   "id": "572e1983-06d9-4a91-b8fc-823cba0b8927",
   "metadata": {
    "scrolled": true
   },
   "outputs": [],
   "source": [
    "# Defining Search Space\n",
    "space = hp.choice(\n",
    "    \"classifiers\",\n",
    "    [\n",
    "        {\"type\": \"linear_model\", \"params\": {}},\n",
    "        {\n",
    "            \"type\": \"rf_model\",\n",
    "            \"params\": {\n",
    "                \"max_depth\": hp.choice(\"max_depth\", range(4, 15)),\n",
    "                \"criterion\": hp.choice(\"criterion\", [\"squared_error\"]),\n",
    "            },\n",
    "        },\n",
    "    ],\n",
    ")"
   ]
  },
  {
   "cell_type": "code",
   "execution_count": 13,
   "id": "0998d09f-cb5f-44cf-9a21-666198a2ab75",
   "metadata": {},
   "outputs": [
    {
     "data": {
      "text/plain": [
       "Experiment(experiment_name='hyperopt', run_name='003', model_name='multi-models', tracking_uri='sqlite:///mlflow.db')"
      ]
     },
     "execution_count": 13,
     "metadata": {},
     "output_type": "execute_result"
    }
   ],
   "source": [
    "exp_dict = {\n",
    "    \"experiment_name\": \"hyperopt\",\n",
    "    \"run_name\": \"003\",\n",
    "    \"model_name\": \"multi-models\",\n",
    "    \"tracking_uri\": \"sqlite:///mlflow.db\",\n",
    "}\n",
    "\n",
    "exp_details = util.Experiment(**exp_dict)\n",
    "\n",
    "exp_details"
   ]
  },
  {
   "cell_type": "code",
   "execution_count": 14,
   "id": "083f4bf9-3737-4ad9-a491-4d65c62dbcd0",
   "metadata": {
    "scrolled": true,
    "tags": []
   },
   "outputs": [
    {
     "name": "stdout",
     "output_type": "stream",
     "text": [
      "  0%|                                                                               | 0/10 [00:00<?, ?trial/s, best loss=?]"
     ]
    },
    {
     "name": "stderr",
     "output_type": "stream",
     "text": [
      "INFO :: 2022-12-17 22:33:41,169 :: build_posterior_wrapper took 0.002681 seconds\n",
      "INFO :: 2022-12-17 22:33:41,170 :: TPE using 0 trials\n"
     ]
    },
    {
     "name": "stdout",
     "output_type": "stream",
     "text": [
      " 10%|█████                                             | 1/10 [14:56<2:14:24, 896.09s/trial, best loss: 0.0855583212338894]"
     ]
    },
    {
     "name": "stderr",
     "output_type": "stream",
     "text": [
      "INFO :: 2022-12-17 22:48:37,259 :: build_posterior_wrapper took 0.002706 seconds\n",
      "INFO :: 2022-12-17 22:48:37,261 :: TPE using 1/1 trials with best loss 0.085558\n"
     ]
    },
    {
     "name": "stdout",
     "output_type": "stream",
     "text": [
      " 20%|██████████▍                                         | 2/10 [15:01<49:37, 372.24s/trial, best loss: 0.0855583212338894]"
     ]
    },
    {
     "name": "stderr",
     "output_type": "stream",
     "text": [
      "INFO :: 2022-12-17 22:48:42,810 :: build_posterior_wrapper took 0.001385 seconds\n",
      "INFO :: 2022-12-17 22:48:42,811 :: TPE using 2/2 trials with best loss 0.085558\n"
     ]
    },
    {
     "name": "stdout",
     "output_type": "stream",
     "text": [
      " 30%|███████████████▌                                    | 3/10 [15:06<23:49, 204.27s/trial, best loss: 0.0855583212338894]"
     ]
    },
    {
     "name": "stderr",
     "output_type": "stream",
     "text": [
      "INFO :: 2022-12-17 22:48:47,193 :: build_posterior_wrapper took 0.001050 seconds\n",
      "INFO :: 2022-12-17 22:48:47,194 :: TPE using 3/3 trials with best loss 0.085558\n"
     ]
    },
    {
     "name": "stdout",
     "output_type": "stream",
     "text": [
      " 40%|████████████████████▊                               | 4/10 [15:10<12:32, 125.43s/trial, best loss: 0.0855583212338894]"
     ]
    },
    {
     "name": "stderr",
     "output_type": "stream",
     "text": [
      "INFO :: 2022-12-17 22:48:51,751 :: build_posterior_wrapper took 0.001230 seconds\n",
      "INFO :: 2022-12-17 22:48:51,752 :: TPE using 4/4 trials with best loss 0.085558\n"
     ]
    },
    {
     "name": "stdout",
     "output_type": "stream",
     "text": [
      " 50%|██████████████████████████                          | 5/10 [25:56<26:05, 313.12s/trial, best loss: 0.0855583212338894]"
     ]
    },
    {
     "name": "stderr",
     "output_type": "stream",
     "text": [
      "INFO :: 2022-12-17 22:59:37,683 :: build_posterior_wrapper took 0.001473 seconds\n",
      "INFO :: 2022-12-17 22:59:37,684 :: TPE using 5/5 trials with best loss 0.085558\n"
     ]
    },
    {
     "name": "stdout",
     "output_type": "stream",
     "text": [
      " 60%|███████████████████████████████▏                    | 6/10 [26:01<13:52, 208.19s/trial, best loss: 0.0855583212338894]"
     ]
    },
    {
     "name": "stderr",
     "output_type": "stream",
     "text": [
      "INFO :: 2022-12-17 22:59:42,189 :: build_posterior_wrapper took 0.001222 seconds\n",
      "INFO :: 2022-12-17 22:59:42,190 :: TPE using 6/6 trials with best loss 0.085558\n"
     ]
    },
    {
     "name": "stdout",
     "output_type": "stream",
     "text": [
      " 70%|████████████████████████████████████▍               | 7/10 [26:05<07:05, 141.73s/trial, best loss: 0.0855583212338894]"
     ]
    },
    {
     "name": "stderr",
     "output_type": "stream",
     "text": [
      "INFO :: 2022-12-17 22:59:47,082 :: build_posterior_wrapper took 0.001202 seconds\n",
      "INFO :: 2022-12-17 22:59:47,083 :: TPE using 7/7 trials with best loss 0.085558\n"
     ]
    },
    {
     "name": "stdout",
     "output_type": "stream",
     "text": [
      " 80%|█████████████████████████████████████████▌          | 8/10 [37:10<10:16, 308.31s/trial, best loss: 0.0855583212338894]"
     ]
    },
    {
     "name": "stderr",
     "output_type": "stream",
     "text": [
      "INFO :: 2022-12-17 23:10:52,057 :: build_posterior_wrapper took 0.002366 seconds\n",
      "INFO :: 2022-12-17 23:10:52,057 :: TPE using 8/8 trials with best loss 0.085558\n"
     ]
    },
    {
     "name": "stdout",
     "output_type": "stream",
     "text": [
      " 90%|██████████████████████████████████████████████▊     | 9/10 [37:15<03:33, 213.28s/trial, best loss: 0.0855583212338894]"
     ]
    },
    {
     "name": "stderr",
     "output_type": "stream",
     "text": [
      "INFO :: 2022-12-17 23:10:56,406 :: build_posterior_wrapper took 0.011352 seconds\n",
      "INFO :: 2022-12-17 23:10:56,407 :: TPE using 9/9 trials with best loss 0.085558\n"
     ]
    },
    {
     "name": "stdout",
     "output_type": "stream",
     "text": [
      "100%|███████████████████████████████████████████████████| 10/10 [48:36<00:00, 291.60s/trial, best loss: 0.0855583212338894]\n"
     ]
    }
   ],
   "source": [
    "# Putting it together\n",
    "best_classifier = fmin(\n",
    "    fn=objective,\n",
    "    space=space,\n",
    "    algo=tpe.suggest,\n",
    "    max_evals=10,\n",
    "    trials=Trials(),\n",
    ")\n",
    "# mlflow.sklearn.log_model(estimator, \"model\")"
   ]
  },
  {
   "cell_type": "code",
   "execution_count": 15,
   "id": "79a3100c-78df-4bbc-abff-2ba227a53750",
   "metadata": {},
   "outputs": [
    {
     "data": {
      "text/plain": [
       "{'criterion': 'squared_error', 'max_depth': 13}"
      ]
     },
     "execution_count": 15,
     "metadata": {},
     "output_type": "execute_result"
    }
   ],
   "source": [
    "best_params = space_eval(space, best_classifier)\n",
    "\n",
    "# Getting the best Model\n",
    "best_params.get(\"params\")"
   ]
  },
  {
   "cell_type": "markdown",
   "id": "b2cabb7e-4f03-46b6-bebb-8f8883fb758d",
   "metadata": {},
   "source": [
    "### Train And Track The Experiment With MLFlow"
   ]
  },
  {
   "cell_type": "code",
   "execution_count": 16,
   "id": "3368e846-4f3a-4ffa-aacc-0c61d87db653",
   "metadata": {},
   "outputs": [
    {
     "data": {
      "text/plain": [
       "((2165539, 10), (240616, 10))"
      ]
     },
     "execution_count": 16,
     "metadata": {},
     "output_type": "execute_result"
    }
   ],
   "source": [
    "# Split the data\n",
    "X = transformed_X.copy()\n",
    "y = train_data[config.model_config.TARGET]\n",
    "\n",
    "X_train, X_validate, y_train, y_validate = train_test_split(\n",
    "    X,\n",
    "    y,\n",
    "    test_size=config.model_config.TEST_SIZE,\n",
    "    random_state=config.model_config.RANDOM_STATE,\n",
    ")\n",
    "\n",
    "X_train.shape, X_validate.shape"
   ]
  },
  {
   "cell_type": "code",
   "execution_count": 19,
   "id": "b8e9ea3f-61f2-4f83-ac1a-868b9e1835f5",
   "metadata": {},
   "outputs": [
    {
     "data": {
      "text/plain": [
       "Experiment(experiment_name='new_experiment', run_name='004', model_name='rf_model', tracking_uri='sqlite:///mlflow.db')"
      ]
     },
     "execution_count": 19,
     "metadata": {},
     "output_type": "execute_result"
    }
   ],
   "source": [
    "training_data = util.TrainingData(\n",
    "    X_train=X_train, X_validate=X_validate, y_train=y_train, y_validate=y_validate\n",
    ")\n",
    "clf = RandomForestRegressor(**best_params.get(\"params\"))\n",
    "\n",
    "exp_dict = {\n",
    "    \"experiment_name\": \"new_experiment\",\n",
    "    \"run_name\": \"004\",\n",
    "    \"model_name\": \"rf_model\",\n",
    "    \"tracking_uri\": \"sqlite:///mlflow.db\",\n",
    "}\n",
    "\n",
    "exp_details = util.Experiment(**exp_dict)\n",
    "\n",
    "exp_details"
   ]
  },
  {
   "cell_type": "code",
   "execution_count": 21,
   "id": "0d3d2d16-22d0-4de1-a431-cff275df551c",
   "metadata": {},
   "outputs": [
    {
     "name": "stderr",
     "output_type": "stream",
     "text": [
      "INFO :: 2022-12-17 23:23:12,304 :: Context impl SQLiteImpl.\n",
      "INFO :: 2022-12-17 23:23:12,305 :: Will assume non-transactional DDL.\n",
      "2022/12/17 23:23:12 INFO mlflow.tracking.fluent: Experiment with name 'new_experiment' does not exist. Creating a new experiment.\n",
      "INFO :: 2022-12-17 23:23:13,316 :: ========= Training 'rf_model' =========\n"
     ]
    },
    {
     "name": "stdout",
     "output_type": "stream",
     "text": [
      " Model name: rf_model\n",
      "  RMSE: 0.18995432746166002\n",
      "  MSE: 0.03608264652141156\n",
      "  MAE: 0.1334863171800785\n",
      "  R2: 0.9052024409063282\n"
     ]
    },
    {
     "name": "stderr",
     "output_type": "stream",
     "text": [
      "Successfully registered model 'rf_model'.\n",
      "2022/12/17 23:36:26 INFO mlflow.tracking._model_registry.client: Waiting up to 300 seconds for model version to finish creation.                     Model name: rf_model, version 1\n",
      "Created version '1' of model 'rf_model'.\n",
      "INFO :: 2022-12-17 23:36:26,463 :: ========= Training 'rf_model' Done! =========\n"
     ]
    }
   ],
   "source": [
    "util.run_experiment(experiment=exp_details, estimator=clf, training_data=training_data)"
   ]
  },
  {
   "cell_type": "code",
   "execution_count": null,
   "id": "be1e9685-cb0d-48d2-abdb-06779a49c79f",
   "metadata": {},
   "outputs": [],
   "source": []
  },
  {
   "cell_type": "code",
   "execution_count": null,
   "id": "fdfad852-6289-40b6-9080-1b16d8408cb6",
   "metadata": {},
   "outputs": [],
   "source": []
  },
  {
   "cell_type": "code",
   "execution_count": null,
   "id": "0ab9acc2-61f4-4c1b-8993-bf33bec998d9",
   "metadata": {
    "scrolled": true
   },
   "outputs": [],
   "source": []
  }
 ],
 "metadata": {
  "kernelspec": {
   "display_name": "Python3.10 (mlflow)",
   "language": "python",
   "name": "mlflow_env_p310"
  },
  "language_info": {
   "codemirror_mode": {
    "name": "ipython",
    "version": 3
   },
   "file_extension": ".py",
   "mimetype": "text/x-python",
   "name": "python",
   "nbconvert_exporter": "python",
   "pygments_lexer": "ipython3",
   "version": "3.10.8"
  }
 },
 "nbformat": 4,
 "nbformat_minor": 5
}
