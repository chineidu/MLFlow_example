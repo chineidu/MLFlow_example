{
 "cells": [
  {
   "cell_type": "markdown",
   "id": "f0d4f3f6-0b33-47cb-9fce-3c1263fe3a3d",
   "metadata": {},
   "source": [
    "# Model Building"
   ]
  },
  {
   "cell_type": "code",
   "execution_count": 1,
   "id": "50d35b84-a440-4d9d-83b8-0ab8df917dbe",
   "metadata": {
    "scrolled": true,
    "tags": []
   },
   "outputs": [],
   "source": [
    "# Standard imports\n",
    "import numpy as np\n",
    "import pandas as pd\n",
    "from pydantic import BaseModel, ValidationError\n",
    "import yaml\n",
    "\n",
    "# Visualization\n",
    "import matplotlib.pyplot as plt\n",
    "import seaborn as sns\n",
    "\n",
    "sns.set()\n",
    "\n",
    "# Built-in library\n",
    "import itertools\n",
    "import re\n",
    "import json\n",
    "import typing as tp\n",
    "\n",
    "import warnings\n",
    "\n",
    "warnings.filterwarnings(\"error\")\n",
    "\n",
    "# for saving the pipeline\n",
    "import joblib\n",
    "\n",
    "# from Scikit-learn\n",
    "from sklearn.model_selection import train_test_split\n",
    "from sklearn.preprocessing import StandardScaler, MinMaxScaler, Binarizer\n",
    "from sklearn.pipeline import Pipeline\n",
    "from sklearn.base import BaseEstimator, TransformerMixin\n",
    "from sklearn.linear_model import LinearRegression, Lasso\n",
    "from sklearn.ensemble import RandomForestRegressor\n",
    "from sklearn import metrics\n",
    "\n",
    "# from feature-engine\n",
    "from feature_engine.imputation import (\n",
    "    AddMissingIndicator,\n",
    "    MeanMedianImputer,\n",
    "    CategoricalImputer,\n",
    ")\n",
    "\n",
    "\n",
    "from feature_engine.transformation import (\n",
    "    LogTransformer,\n",
    "    YeoJohnsonTransformer,\n",
    ")\n",
    "\n",
    "from feature_engine.discretisation import EqualFrequencyDiscretiser\n",
    "\n",
    "from feature_engine.selection import DropFeatures\n",
    "from feature_engine.wrappers import SklearnTransformerWrapper\n",
    "\n",
    "# Custom Imports\n",
    "from data_manager import load_data, validate_input\n",
    "import feat_engineering as fe\n",
    "from schema import (\n",
    "    TrainingSchema,\n",
    "    ValidateTrainingData,\n",
    "    ModelConfig,\n",
    "    MLFlowConfig,\n",
    "    ConfigVars,\n",
    ")\n",
    "\n",
    "# pandas settings\n",
    "pd.options.display.max_rows = 1_000\n",
    "pd.options.display.max_columns = 1_000\n",
    "pd.options.display.max_colwidth = 600\n",
    "\n",
    "# Black code formatter (Optional)\n",
    "%load_ext lab_black\n",
    "# auto reload imports\n",
    "%load_ext autoreload\n",
    "%autoreload 2"
   ]
  },
  {
   "cell_type": "markdown",
   "id": "8045c794-b983-4f0e-b54a-8e629242e0c2",
   "metadata": {},
   "source": [
    "### Load Data"
   ]
  },
  {
   "cell_type": "code",
   "execution_count": 2,
   "id": "4e4a9836-f9eb-4d20-b723-5f4fffee301b",
   "metadata": {
    "scrolled": true
   },
   "outputs": [
    {
     "name": "stdout",
     "output_type": "stream",
     "text": [
      "Shape of: \n",
      "train_data: (2406155, 20)\n",
      "test_data: (2901257, 20)\n",
      "\n"
     ]
    },
    {
     "data": {
      "text/html": [
       "<div>\n",
       "<style scoped>\n",
       "    .dataframe tbody tr th:only-of-type {\n",
       "        vertical-align: middle;\n",
       "    }\n",
       "\n",
       "    .dataframe tbody tr th {\n",
       "        vertical-align: top;\n",
       "    }\n",
       "\n",
       "    .dataframe thead th {\n",
       "        text-align: right;\n",
       "    }\n",
       "</style>\n",
       "<table border=\"1\" class=\"dataframe\">\n",
       "  <thead>\n",
       "    <tr style=\"text-align: right;\">\n",
       "      <th></th>\n",
       "      <th>VendorID</th>\n",
       "      <th>tpep_pickup_datetime</th>\n",
       "      <th>tpep_dropoff_datetime</th>\n",
       "      <th>passenger_count</th>\n",
       "      <th>trip_distance</th>\n",
       "      <th>RatecodeID</th>\n",
       "      <th>store_and_fwd_flag</th>\n",
       "      <th>PULocationID</th>\n",
       "      <th>DOLocationID</th>\n",
       "      <th>payment_type</th>\n",
       "      <th>fare_amount</th>\n",
       "      <th>extra</th>\n",
       "      <th>mta_tax</th>\n",
       "      <th>tip_amount</th>\n",
       "      <th>tolls_amount</th>\n",
       "      <th>improvement_surcharge</th>\n",
       "      <th>total_amount</th>\n",
       "      <th>congestion_surcharge</th>\n",
       "      <th>airport_fee</th>\n",
       "      <th>trip_duration</th>\n",
       "    </tr>\n",
       "  </thead>\n",
       "  <tbody>\n",
       "    <tr>\n",
       "      <th>0</th>\n",
       "      <td>1</td>\n",
       "      <td>2022-01-01 00:35:40</td>\n",
       "      <td>2022-01-01 00:53:29</td>\n",
       "      <td>2.0</td>\n",
       "      <td>3.80</td>\n",
       "      <td>1.0</td>\n",
       "      <td>N</td>\n",
       "      <td>142</td>\n",
       "      <td>236</td>\n",
       "      <td>1</td>\n",
       "      <td>14.5</td>\n",
       "      <td>3.0</td>\n",
       "      <td>0.5</td>\n",
       "      <td>3.65</td>\n",
       "      <td>0.0</td>\n",
       "      <td>0.3</td>\n",
       "      <td>21.95</td>\n",
       "      <td>2.5</td>\n",
       "      <td>0.0</td>\n",
       "      <td>2.934920</td>\n",
       "    </tr>\n",
       "    <tr>\n",
       "      <th>1</th>\n",
       "      <td>1</td>\n",
       "      <td>2022-01-01 00:33:43</td>\n",
       "      <td>2022-01-01 00:42:07</td>\n",
       "      <td>1.0</td>\n",
       "      <td>2.10</td>\n",
       "      <td>1.0</td>\n",
       "      <td>N</td>\n",
       "      <td>236</td>\n",
       "      <td>42</td>\n",
       "      <td>1</td>\n",
       "      <td>8.0</td>\n",
       "      <td>0.5</td>\n",
       "      <td>0.5</td>\n",
       "      <td>4.00</td>\n",
       "      <td>0.0</td>\n",
       "      <td>0.3</td>\n",
       "      <td>13.30</td>\n",
       "      <td>0.0</td>\n",
       "      <td>0.0</td>\n",
       "      <td>2.240710</td>\n",
       "    </tr>\n",
       "    <tr>\n",
       "      <th>2</th>\n",
       "      <td>2</td>\n",
       "      <td>2022-01-01 00:53:21</td>\n",
       "      <td>2022-01-01 01:02:19</td>\n",
       "      <td>1.0</td>\n",
       "      <td>0.97</td>\n",
       "      <td>1.0</td>\n",
       "      <td>N</td>\n",
       "      <td>166</td>\n",
       "      <td>166</td>\n",
       "      <td>1</td>\n",
       "      <td>7.5</td>\n",
       "      <td>0.5</td>\n",
       "      <td>0.5</td>\n",
       "      <td>1.76</td>\n",
       "      <td>0.0</td>\n",
       "      <td>0.3</td>\n",
       "      <td>10.56</td>\n",
       "      <td>0.0</td>\n",
       "      <td>0.0</td>\n",
       "      <td>2.299581</td>\n",
       "    </tr>\n",
       "    <tr>\n",
       "      <th>3</th>\n",
       "      <td>2</td>\n",
       "      <td>2022-01-01 00:25:21</td>\n",
       "      <td>2022-01-01 00:35:23</td>\n",
       "      <td>1.0</td>\n",
       "      <td>1.09</td>\n",
       "      <td>1.0</td>\n",
       "      <td>N</td>\n",
       "      <td>114</td>\n",
       "      <td>68</td>\n",
       "      <td>2</td>\n",
       "      <td>8.0</td>\n",
       "      <td>0.5</td>\n",
       "      <td>0.5</td>\n",
       "      <td>0.00</td>\n",
       "      <td>0.0</td>\n",
       "      <td>0.3</td>\n",
       "      <td>11.80</td>\n",
       "      <td>2.5</td>\n",
       "      <td>0.0</td>\n",
       "      <td>2.400619</td>\n",
       "    </tr>\n",
       "    <tr>\n",
       "      <th>4</th>\n",
       "      <td>2</td>\n",
       "      <td>2022-01-01 00:36:48</td>\n",
       "      <td>2022-01-01 01:14:20</td>\n",
       "      <td>1.0</td>\n",
       "      <td>4.30</td>\n",
       "      <td>1.0</td>\n",
       "      <td>N</td>\n",
       "      <td>68</td>\n",
       "      <td>163</td>\n",
       "      <td>1</td>\n",
       "      <td>23.5</td>\n",
       "      <td>0.5</td>\n",
       "      <td>0.5</td>\n",
       "      <td>3.00</td>\n",
       "      <td>0.0</td>\n",
       "      <td>0.3</td>\n",
       "      <td>30.30</td>\n",
       "      <td>2.5</td>\n",
       "      <td>0.0</td>\n",
       "      <td>3.651437</td>\n",
       "    </tr>\n",
       "  </tbody>\n",
       "</table>\n",
       "</div>"
      ],
      "text/plain": [
       "   VendorID tpep_pickup_datetime tpep_dropoff_datetime  passenger_count  \\\n",
       "0         1  2022-01-01 00:35:40   2022-01-01 00:53:29              2.0   \n",
       "1         1  2022-01-01 00:33:43   2022-01-01 00:42:07              1.0   \n",
       "2         2  2022-01-01 00:53:21   2022-01-01 01:02:19              1.0   \n",
       "3         2  2022-01-01 00:25:21   2022-01-01 00:35:23              1.0   \n",
       "4         2  2022-01-01 00:36:48   2022-01-01 01:14:20              1.0   \n",
       "\n",
       "   trip_distance  RatecodeID store_and_fwd_flag  PULocationID  DOLocationID  \\\n",
       "0           3.80         1.0                  N           142           236   \n",
       "1           2.10         1.0                  N           236            42   \n",
       "2           0.97         1.0                  N           166           166   \n",
       "3           1.09         1.0                  N           114            68   \n",
       "4           4.30         1.0                  N            68           163   \n",
       "\n",
       "   payment_type  fare_amount  extra  mta_tax  tip_amount  tolls_amount  \\\n",
       "0             1         14.5    3.0      0.5        3.65           0.0   \n",
       "1             1          8.0    0.5      0.5        4.00           0.0   \n",
       "2             1          7.5    0.5      0.5        1.76           0.0   \n",
       "3             2          8.0    0.5      0.5        0.00           0.0   \n",
       "4             1         23.5    0.5      0.5        3.00           0.0   \n",
       "\n",
       "   improvement_surcharge  total_amount  congestion_surcharge  airport_fee  \\\n",
       "0                    0.3         21.95                   2.5          0.0   \n",
       "1                    0.3         13.30                   0.0          0.0   \n",
       "2                    0.3         10.56                   0.0          0.0   \n",
       "3                    0.3         11.80                   2.5          0.0   \n",
       "4                    0.3         30.30                   2.5          0.0   \n",
       "\n",
       "   trip_duration  \n",
       "0       2.934920  \n",
       "1       2.240710  \n",
       "2       2.299581  \n",
       "3       2.400619  \n",
       "4       3.651437  "
      ]
     },
     "execution_count": 2,
     "metadata": {},
     "output_type": "execute_result"
    }
   ],
   "source": [
    "# Load Data\n",
    "train_data = load_data(\"data/yellow_tripdata_2022-01.parquet\")\n",
    "test_data = load_data(\"data/yellow_tripdata_2022-02.parquet\")\n",
    "\n",
    "print(f\"Shape of: \\ntrain_data: {train_data.shape}\\ntest_data: {test_data.shape}\\n\")\n",
    "\n",
    "train_data.head()"
   ]
  },
  {
   "cell_type": "markdown",
   "id": "6d776c5e-dd13-405a-9c86-cddb8e1630c6",
   "metadata": {},
   "source": [
    "### Load Config"
   ]
  },
  {
   "cell_type": "code",
   "execution_count": 3,
   "id": "f9e811b7-b3e4-4785-9aad-a2b1b83d3017",
   "metadata": {
    "scrolled": true,
    "tags": []
   },
   "outputs": [
    {
     "data": {
      "text/plain": [
       "{'RANDOM_STATE': 123,\n",
       " 'TEST_SIZE': 0.1,\n",
       " 'TARGET': 'trip_duration',\n",
       " 'NUMERICAL_VARS': ['VendorID',\n",
       "  'tpep_pickup_datetime',\n",
       "  'tpep_dropoff_datetime',\n",
       "  'passenger_count',\n",
       "  'trip_distance',\n",
       "  'RatecodeID',\n",
       "  'PULocationID',\n",
       "  'DOLocationID',\n",
       "  'payment_type',\n",
       "  'fare_amount',\n",
       "  'extra',\n",
       "  'mta_tax',\n",
       "  'tip_amount',\n",
       "  'tolls_amount',\n",
       "  'improvement_surcharge',\n",
       "  'total_amount',\n",
       "  'congestion_surcharge',\n",
       "  'airport_fee'],\n",
       " 'CATEGORICAL_VARS': ['store_and_fwd_flag'],\n",
       " 'NUM_VARS_WF_NA': ['RatecodeID'],\n",
       " 'INPUT_FEATURES': ['DOLocationID',\n",
       "  'payment_type',\n",
       "  'PULocationID',\n",
       "  'RatecodeID',\n",
       "  'total_amount',\n",
       "  'tpep_pickup_datetime',\n",
       "  'trip_distance',\n",
       "  'VendorID'],\n",
       " 'IMPORTANT_FEATURES': ['day_of_week',\n",
       "  'DOLocationID',\n",
       "  'hour_of_day',\n",
       "  'payment_type',\n",
       "  'PULocationID',\n",
       "  'RatecodeID',\n",
       "  'RatecodeID_na',\n",
       "  'total_amount',\n",
       "  'tpep_pickup_datetime',\n",
       "  'trip_distance',\n",
       "  'VendorID'],\n",
       " 'VARS_TO_DROP': ['tpep_pickup_datetime'],\n",
       " 'VARS_TO_LOG_TRANSFORM': ['trip_distance', 'total_amount'],\n",
       " 'TEMPORAL_VAR': 'tpep_pickup_datetime'}"
      ]
     },
     "execution_count": 3,
     "metadata": {},
     "output_type": "execute_result"
    }
   ],
   "source": [
    "fp = \"config.yml\"\n",
    "\n",
    "with open(fp, \"r\") as file:\n",
    "    config_file = yaml.safe_load(stream=file)\n",
    "\n",
    "config_file"
   ]
  },
  {
   "cell_type": "code",
   "execution_count": 4,
   "id": "419047cf-d017-4950-8301-2c1075231c1b",
   "metadata": {},
   "outputs": [
    {
     "data": {
      "text/plain": [
       "'tpep_pickup_datetime'"
      ]
     },
     "execution_count": 4,
     "metadata": {},
     "output_type": "execute_result"
    }
   ],
   "source": [
    "config = ConfigVars(\n",
    "    model_config=ModelConfig(**config_file), mlflow_config=MLFlowConfig(**config_file)\n",
    ")\n",
    "\n",
    "config.model_config.VARS_TO_LOG_TRANSFORM\n",
    "config.model_config.TEMPORAL_VAR"
   ]
  },
  {
   "cell_type": "code",
   "execution_count": 5,
   "id": "2b12fc3a-3a31-48d1-a2f5-1ac0f889fb7d",
   "metadata": {
    "scrolled": true
   },
   "outputs": [
    {
     "data": {
      "text/plain": [
       "((2165539, 19), (240616, 19))"
      ]
     },
     "execution_count": 5,
     "metadata": {},
     "output_type": "execute_result"
    }
   ],
   "source": [
    "# Split the data\n",
    "X = train_data.drop(columns=[config.model_config.TARGET])\n",
    "y = train_data[config.model_config.TARGET]\n",
    "\n",
    "X_train, X_validate, y_train, y_validate = train_test_split(\n",
    "    X,\n",
    "    y,\n",
    "    test_size=config.model_config.TEST_SIZE,\n",
    "    random_state=config.model_config.RANDOM_STATE,\n",
    ")\n",
    "\n",
    "X_train.shape, X_validate.shape"
   ]
  },
  {
   "cell_type": "markdown",
   "id": "33ffc1f9-11ee-4cd8-a3b2-458e21ba9845",
   "metadata": {},
   "source": [
    "### Pipeline"
   ]
  },
  {
   "cell_type": "code",
   "execution_count": 6,
   "id": "4385642b-9763-4c7a-b97e-900895dbd746",
   "metadata": {
    "scrolled": true
   },
   "outputs": [
    {
     "data": {
      "text/html": [
       "<style>#sk-container-id-1 {color: black;background-color: white;}#sk-container-id-1 pre{padding: 0;}#sk-container-id-1 div.sk-toggleable {background-color: white;}#sk-container-id-1 label.sk-toggleable__label {cursor: pointer;display: block;width: 100%;margin-bottom: 0;padding: 0.3em;box-sizing: border-box;text-align: center;}#sk-container-id-1 label.sk-toggleable__label-arrow:before {content: \"▸\";float: left;margin-right: 0.25em;color: #696969;}#sk-container-id-1 label.sk-toggleable__label-arrow:hover:before {color: black;}#sk-container-id-1 div.sk-estimator:hover label.sk-toggleable__label-arrow:before {color: black;}#sk-container-id-1 div.sk-toggleable__content {max-height: 0;max-width: 0;overflow: hidden;text-align: left;background-color: #f0f8ff;}#sk-container-id-1 div.sk-toggleable__content pre {margin: 0.2em;color: black;border-radius: 0.25em;background-color: #f0f8ff;}#sk-container-id-1 input.sk-toggleable__control:checked~div.sk-toggleable__content {max-height: 200px;max-width: 100%;overflow: auto;}#sk-container-id-1 input.sk-toggleable__control:checked~label.sk-toggleable__label-arrow:before {content: \"▾\";}#sk-container-id-1 div.sk-estimator input.sk-toggleable__control:checked~label.sk-toggleable__label {background-color: #d4ebff;}#sk-container-id-1 div.sk-label input.sk-toggleable__control:checked~label.sk-toggleable__label {background-color: #d4ebff;}#sk-container-id-1 input.sk-hidden--visually {border: 0;clip: rect(1px 1px 1px 1px);clip: rect(1px, 1px, 1px, 1px);height: 1px;margin: -1px;overflow: hidden;padding: 0;position: absolute;width: 1px;}#sk-container-id-1 div.sk-estimator {font-family: monospace;background-color: #f0f8ff;border: 1px dotted black;border-radius: 0.25em;box-sizing: border-box;margin-bottom: 0.5em;}#sk-container-id-1 div.sk-estimator:hover {background-color: #d4ebff;}#sk-container-id-1 div.sk-parallel-item::after {content: \"\";width: 100%;border-bottom: 1px solid gray;flex-grow: 1;}#sk-container-id-1 div.sk-label:hover label.sk-toggleable__label {background-color: #d4ebff;}#sk-container-id-1 div.sk-serial::before {content: \"\";position: absolute;border-left: 1px solid gray;box-sizing: border-box;top: 0;bottom: 0;left: 50%;z-index: 0;}#sk-container-id-1 div.sk-serial {display: flex;flex-direction: column;align-items: center;background-color: white;padding-right: 0.2em;padding-left: 0.2em;position: relative;}#sk-container-id-1 div.sk-item {position: relative;z-index: 1;}#sk-container-id-1 div.sk-parallel {display: flex;align-items: stretch;justify-content: center;background-color: white;position: relative;}#sk-container-id-1 div.sk-item::before, #sk-container-id-1 div.sk-parallel-item::before {content: \"\";position: absolute;border-left: 1px solid gray;box-sizing: border-box;top: 0;bottom: 0;left: 50%;z-index: -1;}#sk-container-id-1 div.sk-parallel-item {display: flex;flex-direction: column;z-index: 1;position: relative;background-color: white;}#sk-container-id-1 div.sk-parallel-item:first-child::after {align-self: flex-end;width: 50%;}#sk-container-id-1 div.sk-parallel-item:last-child::after {align-self: flex-start;width: 50%;}#sk-container-id-1 div.sk-parallel-item:only-child::after {width: 0;}#sk-container-id-1 div.sk-dashed-wrapped {border: 1px dashed gray;margin: 0 0.4em 0.5em 0.4em;box-sizing: border-box;padding-bottom: 0.4em;background-color: white;}#sk-container-id-1 div.sk-label label {font-family: monospace;font-weight: bold;display: inline-block;line-height: 1.2em;}#sk-container-id-1 div.sk-label-container {text-align: center;}#sk-container-id-1 div.sk-container {/* jupyter's `normalize.less` sets `[hidden] { display: none; }` but bootstrap.min.css set `[hidden] { display: none !important; }` so we also need the `!important` here to be able to override the default hidden behavior on the sphinx rendered scikit-learn.org. See: https://github.com/scikit-learn/scikit-learn/issues/21755 */display: inline-block !important;position: relative;}#sk-container-id-1 div.sk-text-repr-fallback {display: none;}</style><div id=\"sk-container-id-1\" class=\"sk-top-container\"><div class=\"sk-text-repr-fallback\"><pre>Pipeline(steps=[(&#x27;input vars&#x27;,\n",
       "                 SelectFeatures(features=[&#x27;DOLocationID&#x27;, &#x27;payment_type&#x27;,\n",
       "                                          &#x27;PULocationID&#x27;, &#x27;RatecodeID&#x27;,\n",
       "                                          &#x27;total_amount&#x27;,\n",
       "                                          &#x27;tpep_pickup_datetime&#x27;,\n",
       "                                          &#x27;trip_distance&#x27;, &#x27;VendorID&#x27;])),\n",
       "                (&#x27;add na_flag&#x27;, AddMissingIndicator(variables=[&#x27;RatecodeID&#x27;])),\n",
       "                (&#x27;impute num_vars&#x27;,\n",
       "                 MeanMedianImputer(variables=[&#x27;RatecodeID&#x27;])),\n",
       "                (&#x27;cal day_of_week&#x27;,\n",
       "                 CalculateDayOfWeek(feature=&#x27;...\n",
       "                                          &#x27;hour_of_day&#x27;, &#x27;payment_type&#x27;,\n",
       "                                          &#x27;PULocationID&#x27;, &#x27;RatecodeID&#x27;,\n",
       "                                          &#x27;RatecodeID_na&#x27;, &#x27;total_amount&#x27;,\n",
       "                                          &#x27;tpep_pickup_datetime&#x27;,\n",
       "                                          &#x27;trip_distance&#x27;, &#x27;VendorID&#x27;])),\n",
       "                (&#x27;drop features&#x27;,\n",
       "                 DropFeatures(features_to_drop=[&#x27;tpep_pickup_datetime&#x27;])),\n",
       "                (&#x27;log transformation&#x27;,\n",
       "                 LogTransformer(variables=[&#x27;trip_distance&#x27;, &#x27;total_amount&#x27;])),\n",
       "                (&#x27;scale data&#x27;, StandardScaler()),\n",
       "                (&#x27;linear model&#x27;, LinearRegression())])</pre><b>In a Jupyter environment, please rerun this cell to show the HTML representation or trust the notebook. <br />On GitHub, the HTML representation is unable to render, please try loading this page with nbviewer.org.</b></div><div class=\"sk-container\" hidden><div class=\"sk-item sk-dashed-wrapped\"><div class=\"sk-label-container\"><div class=\"sk-label sk-toggleable\"><input class=\"sk-toggleable__control sk-hidden--visually\" id=\"sk-estimator-id-1\" type=\"checkbox\" ><label for=\"sk-estimator-id-1\" class=\"sk-toggleable__label sk-toggleable__label-arrow\">Pipeline</label><div class=\"sk-toggleable__content\"><pre>Pipeline(steps=[(&#x27;input vars&#x27;,\n",
       "                 SelectFeatures(features=[&#x27;DOLocationID&#x27;, &#x27;payment_type&#x27;,\n",
       "                                          &#x27;PULocationID&#x27;, &#x27;RatecodeID&#x27;,\n",
       "                                          &#x27;total_amount&#x27;,\n",
       "                                          &#x27;tpep_pickup_datetime&#x27;,\n",
       "                                          &#x27;trip_distance&#x27;, &#x27;VendorID&#x27;])),\n",
       "                (&#x27;add na_flag&#x27;, AddMissingIndicator(variables=[&#x27;RatecodeID&#x27;])),\n",
       "                (&#x27;impute num_vars&#x27;,\n",
       "                 MeanMedianImputer(variables=[&#x27;RatecodeID&#x27;])),\n",
       "                (&#x27;cal day_of_week&#x27;,\n",
       "                 CalculateDayOfWeek(feature=&#x27;...\n",
       "                                          &#x27;hour_of_day&#x27;, &#x27;payment_type&#x27;,\n",
       "                                          &#x27;PULocationID&#x27;, &#x27;RatecodeID&#x27;,\n",
       "                                          &#x27;RatecodeID_na&#x27;, &#x27;total_amount&#x27;,\n",
       "                                          &#x27;tpep_pickup_datetime&#x27;,\n",
       "                                          &#x27;trip_distance&#x27;, &#x27;VendorID&#x27;])),\n",
       "                (&#x27;drop features&#x27;,\n",
       "                 DropFeatures(features_to_drop=[&#x27;tpep_pickup_datetime&#x27;])),\n",
       "                (&#x27;log transformation&#x27;,\n",
       "                 LogTransformer(variables=[&#x27;trip_distance&#x27;, &#x27;total_amount&#x27;])),\n",
       "                (&#x27;scale data&#x27;, StandardScaler()),\n",
       "                (&#x27;linear model&#x27;, LinearRegression())])</pre></div></div></div><div class=\"sk-serial\"><div class=\"sk-item\"><div class=\"sk-estimator sk-toggleable\"><input class=\"sk-toggleable__control sk-hidden--visually\" id=\"sk-estimator-id-2\" type=\"checkbox\" ><label for=\"sk-estimator-id-2\" class=\"sk-toggleable__label sk-toggleable__label-arrow\">SelectFeatures</label><div class=\"sk-toggleable__content\"><pre>SelectFeatures(features=[&#x27;DOLocationID&#x27;, &#x27;payment_type&#x27;, &#x27;PULocationID&#x27;,\n",
       "                         &#x27;RatecodeID&#x27;, &#x27;total_amount&#x27;, &#x27;tpep_pickup_datetime&#x27;,\n",
       "                         &#x27;trip_distance&#x27;, &#x27;VendorID&#x27;])</pre></div></div></div><div class=\"sk-item\"><div class=\"sk-estimator sk-toggleable\"><input class=\"sk-toggleable__control sk-hidden--visually\" id=\"sk-estimator-id-3\" type=\"checkbox\" ><label for=\"sk-estimator-id-3\" class=\"sk-toggleable__label sk-toggleable__label-arrow\">AddMissingIndicator</label><div class=\"sk-toggleable__content\"><pre>AddMissingIndicator(variables=[&#x27;RatecodeID&#x27;])</pre></div></div></div><div class=\"sk-item\"><div class=\"sk-estimator sk-toggleable\"><input class=\"sk-toggleable__control sk-hidden--visually\" id=\"sk-estimator-id-4\" type=\"checkbox\" ><label for=\"sk-estimator-id-4\" class=\"sk-toggleable__label sk-toggleable__label-arrow\">MeanMedianImputer</label><div class=\"sk-toggleable__content\"><pre>MeanMedianImputer(variables=[&#x27;RatecodeID&#x27;])</pre></div></div></div><div class=\"sk-item\"><div class=\"sk-estimator sk-toggleable\"><input class=\"sk-toggleable__control sk-hidden--visually\" id=\"sk-estimator-id-5\" type=\"checkbox\" ><label for=\"sk-estimator-id-5\" class=\"sk-toggleable__label sk-toggleable__label-arrow\">CalculateDayOfWeek</label><div class=\"sk-toggleable__content\"><pre>CalculateDayOfWeek(feature=&#x27;tpep_pickup_datetime&#x27;)</pre></div></div></div><div class=\"sk-item\"><div class=\"sk-estimator sk-toggleable\"><input class=\"sk-toggleable__control sk-hidden--visually\" id=\"sk-estimator-id-6\" type=\"checkbox\" ><label for=\"sk-estimator-id-6\" class=\"sk-toggleable__label sk-toggleable__label-arrow\">CalculateHourOfDay</label><div class=\"sk-toggleable__content\"><pre>CalculateHourOfDay(feature=&#x27;tpep_pickup_datetime&#x27;)</pre></div></div></div><div class=\"sk-item\"><div class=\"sk-estimator sk-toggleable\"><input class=\"sk-toggleable__control sk-hidden--visually\" id=\"sk-estimator-id-7\" type=\"checkbox\" ><label for=\"sk-estimator-id-7\" class=\"sk-toggleable__label sk-toggleable__label-arrow\">SelectFeatures</label><div class=\"sk-toggleable__content\"><pre>SelectFeatures(features=[&#x27;day_of_week&#x27;, &#x27;DOLocationID&#x27;, &#x27;hour_of_day&#x27;,\n",
       "                         &#x27;payment_type&#x27;, &#x27;PULocationID&#x27;, &#x27;RatecodeID&#x27;,\n",
       "                         &#x27;RatecodeID_na&#x27;, &#x27;total_amount&#x27;,\n",
       "                         &#x27;tpep_pickup_datetime&#x27;, &#x27;trip_distance&#x27;, &#x27;VendorID&#x27;])</pre></div></div></div><div class=\"sk-item\"><div class=\"sk-estimator sk-toggleable\"><input class=\"sk-toggleable__control sk-hidden--visually\" id=\"sk-estimator-id-8\" type=\"checkbox\" ><label for=\"sk-estimator-id-8\" class=\"sk-toggleable__label sk-toggleable__label-arrow\">DropFeatures</label><div class=\"sk-toggleable__content\"><pre>DropFeatures(features_to_drop=[&#x27;tpep_pickup_datetime&#x27;])</pre></div></div></div><div class=\"sk-item\"><div class=\"sk-estimator sk-toggleable\"><input class=\"sk-toggleable__control sk-hidden--visually\" id=\"sk-estimator-id-9\" type=\"checkbox\" ><label for=\"sk-estimator-id-9\" class=\"sk-toggleable__label sk-toggleable__label-arrow\">LogTransformer</label><div class=\"sk-toggleable__content\"><pre>LogTransformer(variables=[&#x27;trip_distance&#x27;, &#x27;total_amount&#x27;])</pre></div></div></div><div class=\"sk-item\"><div class=\"sk-estimator sk-toggleable\"><input class=\"sk-toggleable__control sk-hidden--visually\" id=\"sk-estimator-id-10\" type=\"checkbox\" ><label for=\"sk-estimator-id-10\" class=\"sk-toggleable__label sk-toggleable__label-arrow\">StandardScaler</label><div class=\"sk-toggleable__content\"><pre>StandardScaler()</pre></div></div></div><div class=\"sk-item\"><div class=\"sk-estimator sk-toggleable\"><input class=\"sk-toggleable__control sk-hidden--visually\" id=\"sk-estimator-id-11\" type=\"checkbox\" ><label for=\"sk-estimator-id-11\" class=\"sk-toggleable__label sk-toggleable__label-arrow\">LinearRegression</label><div class=\"sk-toggleable__content\"><pre>LinearRegression()</pre></div></div></div></div></div></div></div>"
      ],
      "text/plain": [
       "Pipeline(steps=[('input vars',\n",
       "                 SelectFeatures(features=['DOLocationID', 'payment_type',\n",
       "                                          'PULocationID', 'RatecodeID',\n",
       "                                          'total_amount',\n",
       "                                          'tpep_pickup_datetime',\n",
       "                                          'trip_distance', 'VendorID'])),\n",
       "                ('add na_flag', AddMissingIndicator(variables=['RatecodeID'])),\n",
       "                ('impute num_vars',\n",
       "                 MeanMedianImputer(variables=['RatecodeID'])),\n",
       "                ('cal day_of_week',\n",
       "                 CalculateDayOfWeek(feature='...\n",
       "                                          'hour_of_day', 'payment_type',\n",
       "                                          'PULocationID', 'RatecodeID',\n",
       "                                          'RatecodeID_na', 'total_amount',\n",
       "                                          'tpep_pickup_datetime',\n",
       "                                          'trip_distance', 'VendorID'])),\n",
       "                ('drop features',\n",
       "                 DropFeatures(features_to_drop=['tpep_pickup_datetime'])),\n",
       "                ('log transformation',\n",
       "                 LogTransformer(variables=['trip_distance', 'total_amount'])),\n",
       "                ('scale data', StandardScaler()),\n",
       "                ('linear model', LinearRegression())])"
      ]
     },
     "execution_count": 6,
     "metadata": {},
     "output_type": "execute_result"
    }
   ],
   "source": [
    "lr_pipe = Pipeline(\n",
    "    steps=[\n",
    "        # ===== Select input features =====\n",
    "        (\n",
    "            \"input vars\",\n",
    "            fe.SelectFeatures(features=config.model_config.INPUT_FEATURES),\n",
    "        ),\n",
    "        # ===== Add NaN flags =====\n",
    "        (\n",
    "            \"add na_flag\",\n",
    "            AddMissingIndicator(\n",
    "                missing_only=True, variables=config.model_config.NUM_VARS_WF_NA\n",
    "            ),\n",
    "        ),\n",
    "        # ===== Impute NaNs =====\n",
    "        (\n",
    "            \"impute num_vars\",\n",
    "            MeanMedianImputer(\n",
    "                imputation_method=\"median\", variables=config.model_config.NUM_VARS_WF_NA\n",
    "            ),\n",
    "        ),\n",
    "        # ===== Create new features =====\n",
    "        (\n",
    "            \"cal day_of_week\",\n",
    "            fe.CalculateDayOfWeek(feature=config.model_config.TEMPORAL_VAR),\n",
    "        ),\n",
    "        (\n",
    "            \"cal hour_of_day\",\n",
    "            fe.CalculateHourOfDay(feature=config.model_config.TEMPORAL_VAR),\n",
    "        ),\n",
    "        # ===== Select features =====\n",
    "        (\n",
    "            \"important vars\",\n",
    "            fe.SelectFeatures(features=config.model_config.IMPORTANT_FEATURES),\n",
    "        ),\n",
    "        # ===== Drop features =====\n",
    "        (\n",
    "            \"drop features\",\n",
    "            DropFeatures(features_to_drop=config.model_config.VARS_TO_DROP),\n",
    "        ),\n",
    "        # ===== Transform features =====\n",
    "        (\n",
    "            \"log transformation\",\n",
    "            LogTransformer(\n",
    "                variables=config.model_config.VARS_TO_LOG_TRANSFORM, base=\"e\"\n",
    "            ),\n",
    "        ),\n",
    "        # ===== Scale features =====\n",
    "        (\"scale data\", StandardScaler()),\n",
    "        # ===== Linear model =====\n",
    "        (\"linear model\", LinearRegression()),\n",
    "    ]\n",
    ")\n",
    "lr_pipe"
   ]
  },
  {
   "cell_type": "code",
   "execution_count": 7,
   "id": "a7376322-6287-4ef7-ac73-62d45df51dcc",
   "metadata": {
    "scrolled": true
   },
   "outputs": [],
   "source": [
    "lr_pipe.fit(X_train, y_train)\n",
    "# Predictions using train data\n",
    "y_pred_train = lr_pipe.predict(X_train)\n",
    "\n",
    "# Predictions using validation data\n",
    "y_pred = lr_pipe.predict(X_validate)"
   ]
  },
  {
   "cell_type": "code",
   "execution_count": 8,
   "id": "e1ec6427-0e90-4431-bb34-71df6612a652",
   "metadata": {
    "scrolled": true
   },
   "outputs": [
    {
     "data": {
      "text/plain": [
       "1.3359982911694641"
      ]
     },
     "execution_count": 8,
     "metadata": {},
     "output_type": "execute_result"
    }
   ],
   "source": [
    "# Train data\n",
    "# Note: The trip_duration is in \"log base e\"\n",
    "mse = metrics.mean_squared_error(y_true=y_train, y_pred=y_pred_train, squared=False)\n",
    "\n",
    "# Convert to minutes: Find the exponential\n",
    "np.exp(mse)"
   ]
  },
  {
   "cell_type": "code",
   "execution_count": 9,
   "id": "c810a08d-ea22-49ae-8721-3e62d354632e",
   "metadata": {
    "scrolled": true
   },
   "outputs": [
    {
     "data": {
      "text/plain": [
       "1.335991742794761"
      ]
     },
     "execution_count": 9,
     "metadata": {},
     "output_type": "execute_result"
    }
   ],
   "source": [
    "# Validation Dataset\n",
    "# Note: The trip_duration is in \"log base e\"\n",
    "mse = metrics.mean_squared_error(y_true=y_validate, y_pred=y_pred, squared=False)\n",
    "\n",
    "# Convert to minutes: Find the exponential\n",
    "np.exp(mse)"
   ]
  },
  {
   "cell_type": "code",
   "execution_count": 10,
   "id": "7fc8ad84-1502-4a57-922c-836cd2285a65",
   "metadata": {
    "tags": []
   },
   "outputs": [
    {
     "data": {
      "image/png": "[encoded data removed]",
      "text/plain": [
       "<Figure size 600x400 with 1 Axes>"
      ]
     },
     "metadata": {},
     "output_type": "display_data"
    }
   ],
   "source": [
    "plt.figure(figsize=[6, 4])\n",
    "\n",
    "plt.hist(y_pred_train, bins=50, alpha=0.6, label=\"prediction\")\n",
    "plt.hist(y_train, bins=50, alpha=0.6, label=\"actual\")\n",
    "plt.title(\"Distribution of Predictions Using The Train Data\", size=15)\n",
    "\n",
    "plt.legend(loc=\"best\")\n",
    "plt.tight_layout()\n",
    "plt.show()"
   ]
  },
  {
   "cell_type": "code",
   "execution_count": 11,
   "id": "acdcb8d7-1d82-4660-9b74-21831143edb0",
   "metadata": {
    "tags": []
   },
   "outputs": [
    {
     "data": {
      "image/png": "[encoded data removed]",
      "text/plain": [
       "<Figure size 600x400 with 1 Axes>"
      ]
     },
     "metadata": {},
     "output_type": "display_data"
    }
   ],
   "source": [
    "plt.figure(figsize=[6, 4])\n",
    "\n",
    "plt.hist(y_pred, bins=50, alpha=0.6, label=\"prediction\")\n",
    "plt.hist(y_validate, bins=50, alpha=0.6, label=\"actual\")\n",
    "plt.title(\"Distribution of Predictions Using The Validation Data\", size=15)\n",
    "\n",
    "plt.legend(loc=\"best\")\n",
    "plt.tight_layout()\n",
    "plt.show()"
   ]
  },
  {
   "cell_type": "code",
   "execution_count": 12,
   "id": "eaecbc12-29f1-43e6-93cd-102633706f15",
   "metadata": {
    "tags": []
   },
   "outputs": [
    {
     "data": {
      "image/png": "[encoded data removed]",
      "text/plain": [
       "<Figure size 600x400 with 1 Axes>"
      ]
     },
     "metadata": {},
     "output_type": "display_data"
    }
   ],
   "source": [
    "plt.figure(figsize=[6, 4])\n",
    "\n",
    "plt.hist(y_validate - y_pred, bins=50, alpha=0.6, color=\"g\")\n",
    "plt.title(\"Distribution of Residues\", size=15)\n",
    "\n",
    "# plt.legend(loc=\"best\")\n",
    "plt.tight_layout()\n",
    "plt.show()"
   ]
  },
  {
   "cell_type": "code",
   "execution_count": 13,
   "id": "f2b43df1-ec27-4cbd-817e-c774d244ecfa",
   "metadata": {
    "scrolled": true
   },
   "outputs": [],
   "source": [
    "# Persist Data\n",
    "fp = \"models/linear_model_v001.joblib\"\n",
    "\n",
    "with open(fp, \"wb\") as file:\n",
    "    joblib.dump(value=lr_pipe, filename=file)"
   ]
  },
  {
   "cell_type": "code",
   "execution_count": null,
   "id": "93920809-eb83-4e44-bcbf-b99431d7e528",
   "metadata": {
    "scrolled": true
   },
   "outputs": [],
   "source": []
  },
  {
   "cell_type": "markdown",
   "id": "20068de3-5d44-4f9a-8e58-9ee5939e3a08",
   "metadata": {
    "tags": []
   },
   "source": [
    "## Preprocessing Pipeline"
   ]
  },
  {
   "cell_type": "code",
   "execution_count": 14,
   "id": "f136d9fd-dd25-454a-80b1-5f83cb4e1536",
   "metadata": {
    "scrolled": true
   },
   "outputs": [
    {
     "data": {
      "text/html": [
       "<style>#sk-container-id-2 {color: black;background-color: white;}#sk-container-id-2 pre{padding: 0;}#sk-container-id-2 div.sk-toggleable {background-color: white;}#sk-container-id-2 label.sk-toggleable__label {cursor: pointer;display: block;width: 100%;margin-bottom: 0;padding: 0.3em;box-sizing: border-box;text-align: center;}#sk-container-id-2 label.sk-toggleable__label-arrow:before {content: \"▸\";float: left;margin-right: 0.25em;color: #696969;}#sk-container-id-2 label.sk-toggleable__label-arrow:hover:before {color: black;}#sk-container-id-2 div.sk-estimator:hover label.sk-toggleable__label-arrow:before {color: black;}#sk-container-id-2 div.sk-toggleable__content {max-height: 0;max-width: 0;overflow: hidden;text-align: left;background-color: #f0f8ff;}#sk-container-id-2 div.sk-toggleable__content pre {margin: 0.2em;color: black;border-radius: 0.25em;background-color: #f0f8ff;}#sk-container-id-2 input.sk-toggleable__control:checked~div.sk-toggleable__content {max-height: 200px;max-width: 100%;overflow: auto;}#sk-container-id-2 input.sk-toggleable__control:checked~label.sk-toggleable__label-arrow:before {content: \"▾\";}#sk-container-id-2 div.sk-estimator input.sk-toggleable__control:checked~label.sk-toggleable__label {background-color: #d4ebff;}#sk-container-id-2 div.sk-label input.sk-toggleable__control:checked~label.sk-toggleable__label {background-color: #d4ebff;}#sk-container-id-2 input.sk-hidden--visually {border: 0;clip: rect(1px 1px 1px 1px);clip: rect(1px, 1px, 1px, 1px);height: 1px;margin: -1px;overflow: hidden;padding: 0;position: absolute;width: 1px;}#sk-container-id-2 div.sk-estimator {font-family: monospace;background-color: #f0f8ff;border: 1px dotted black;border-radius: 0.25em;box-sizing: border-box;margin-bottom: 0.5em;}#sk-container-id-2 div.sk-estimator:hover {background-color: #d4ebff;}#sk-container-id-2 div.sk-parallel-item::after {content: \"\";width: 100%;border-bottom: 1px solid gray;flex-grow: 1;}#sk-container-id-2 div.sk-label:hover label.sk-toggleable__label {background-color: #d4ebff;}#sk-container-id-2 div.sk-serial::before {content: \"\";position: absolute;border-left: 1px solid gray;box-sizing: border-box;top: 0;bottom: 0;left: 50%;z-index: 0;}#sk-container-id-2 div.sk-serial {display: flex;flex-direction: column;align-items: center;background-color: white;padding-right: 0.2em;padding-left: 0.2em;position: relative;}#sk-container-id-2 div.sk-item {position: relative;z-index: 1;}#sk-container-id-2 div.sk-parallel {display: flex;align-items: stretch;justify-content: center;background-color: white;position: relative;}#sk-container-id-2 div.sk-item::before, #sk-container-id-2 div.sk-parallel-item::before {content: \"\";position: absolute;border-left: 1px solid gray;box-sizing: border-box;top: 0;bottom: 0;left: 50%;z-index: -1;}#sk-container-id-2 div.sk-parallel-item {display: flex;flex-direction: column;z-index: 1;position: relative;background-color: white;}#sk-container-id-2 div.sk-parallel-item:first-child::after {align-self: flex-end;width: 50%;}#sk-container-id-2 div.sk-parallel-item:last-child::after {align-self: flex-start;width: 50%;}#sk-container-id-2 div.sk-parallel-item:only-child::after {width: 0;}#sk-container-id-2 div.sk-dashed-wrapped {border: 1px dashed gray;margin: 0 0.4em 0.5em 0.4em;box-sizing: border-box;padding-bottom: 0.4em;background-color: white;}#sk-container-id-2 div.sk-label label {font-family: monospace;font-weight: bold;display: inline-block;line-height: 1.2em;}#sk-container-id-2 div.sk-label-container {text-align: center;}#sk-container-id-2 div.sk-container {/* jupyter's `normalize.less` sets `[hidden] { display: none; }` but bootstrap.min.css set `[hidden] { display: none !important; }` so we also need the `!important` here to be able to override the default hidden behavior on the sphinx rendered scikit-learn.org. See: https://github.com/scikit-learn/scikit-learn/issues/21755 */display: inline-block !important;position: relative;}#sk-container-id-2 div.sk-text-repr-fallback {display: none;}</style><div id=\"sk-container-id-2\" class=\"sk-top-container\"><div class=\"sk-text-repr-fallback\"><pre>Pipeline(steps=[(&#x27;input vars&#x27;,\n",
       "                 SelectFeatures(features=[&#x27;DOLocationID&#x27;, &#x27;payment_type&#x27;,\n",
       "                                          &#x27;PULocationID&#x27;, &#x27;RatecodeID&#x27;,\n",
       "                                          &#x27;total_amount&#x27;,\n",
       "                                          &#x27;tpep_pickup_datetime&#x27;,\n",
       "                                          &#x27;trip_distance&#x27;, &#x27;VendorID&#x27;])),\n",
       "                (&#x27;add na_flag&#x27;, AddMissingIndicator(variables=[&#x27;RatecodeID&#x27;])),\n",
       "                (&#x27;impute num_vars&#x27;,\n",
       "                 MeanMedianImputer(variables=[&#x27;RatecodeID&#x27;])),\n",
       "                (&#x27;cal day_of_week&#x27;,\n",
       "                 CalculateDayOfWeek(feature=&#x27;...\n",
       "                 SelectFeatures(features=[&#x27;day_of_week&#x27;, &#x27;DOLocationID&#x27;,\n",
       "                                          &#x27;hour_of_day&#x27;, &#x27;payment_type&#x27;,\n",
       "                                          &#x27;PULocationID&#x27;, &#x27;RatecodeID&#x27;,\n",
       "                                          &#x27;RatecodeID_na&#x27;, &#x27;total_amount&#x27;,\n",
       "                                          &#x27;tpep_pickup_datetime&#x27;,\n",
       "                                          &#x27;trip_distance&#x27;, &#x27;VendorID&#x27;])),\n",
       "                (&#x27;drop features&#x27;,\n",
       "                 DropFeatures(features_to_drop=[&#x27;tpep_pickup_datetime&#x27;])),\n",
       "                (&#x27;log transformation&#x27;,\n",
       "                 LogTransformer(variables=[&#x27;trip_distance&#x27;, &#x27;total_amount&#x27;])),\n",
       "                (&#x27;scale data&#x27;, StandardScaler())])</pre><b>In a Jupyter environment, please rerun this cell to show the HTML representation or trust the notebook. <br />On GitHub, the HTML representation is unable to render, please try loading this page with nbviewer.org.</b></div><div class=\"sk-container\" hidden><div class=\"sk-item sk-dashed-wrapped\"><div class=\"sk-label-container\"><div class=\"sk-label sk-toggleable\"><input class=\"sk-toggleable__control sk-hidden--visually\" id=\"sk-estimator-id-12\" type=\"checkbox\" ><label for=\"sk-estimator-id-12\" class=\"sk-toggleable__label sk-toggleable__label-arrow\">Pipeline</label><div class=\"sk-toggleable__content\"><pre>Pipeline(steps=[(&#x27;input vars&#x27;,\n",
       "                 SelectFeatures(features=[&#x27;DOLocationID&#x27;, &#x27;payment_type&#x27;,\n",
       "                                          &#x27;PULocationID&#x27;, &#x27;RatecodeID&#x27;,\n",
       "                                          &#x27;total_amount&#x27;,\n",
       "                                          &#x27;tpep_pickup_datetime&#x27;,\n",
       "                                          &#x27;trip_distance&#x27;, &#x27;VendorID&#x27;])),\n",
       "                (&#x27;add na_flag&#x27;, AddMissingIndicator(variables=[&#x27;RatecodeID&#x27;])),\n",
       "                (&#x27;impute num_vars&#x27;,\n",
       "                 MeanMedianImputer(variables=[&#x27;RatecodeID&#x27;])),\n",
       "                (&#x27;cal day_of_week&#x27;,\n",
       "                 CalculateDayOfWeek(feature=&#x27;...\n",
       "                 SelectFeatures(features=[&#x27;day_of_week&#x27;, &#x27;DOLocationID&#x27;,\n",
       "                                          &#x27;hour_of_day&#x27;, &#x27;payment_type&#x27;,\n",
       "                                          &#x27;PULocationID&#x27;, &#x27;RatecodeID&#x27;,\n",
       "                                          &#x27;RatecodeID_na&#x27;, &#x27;total_amount&#x27;,\n",
       "                                          &#x27;tpep_pickup_datetime&#x27;,\n",
       "                                          &#x27;trip_distance&#x27;, &#x27;VendorID&#x27;])),\n",
       "                (&#x27;drop features&#x27;,\n",
       "                 DropFeatures(features_to_drop=[&#x27;tpep_pickup_datetime&#x27;])),\n",
       "                (&#x27;log transformation&#x27;,\n",
       "                 LogTransformer(variables=[&#x27;trip_distance&#x27;, &#x27;total_amount&#x27;])),\n",
       "                (&#x27;scale data&#x27;, StandardScaler())])</pre></div></div></div><div class=\"sk-serial\"><div class=\"sk-item\"><div class=\"sk-estimator sk-toggleable\"><input class=\"sk-toggleable__control sk-hidden--visually\" id=\"sk-estimator-id-13\" type=\"checkbox\" ><label for=\"sk-estimator-id-13\" class=\"sk-toggleable__label sk-toggleable__label-arrow\">SelectFeatures</label><div class=\"sk-toggleable__content\"><pre>SelectFeatures(features=[&#x27;DOLocationID&#x27;, &#x27;payment_type&#x27;, &#x27;PULocationID&#x27;,\n",
       "                         &#x27;RatecodeID&#x27;, &#x27;total_amount&#x27;, &#x27;tpep_pickup_datetime&#x27;,\n",
       "                         &#x27;trip_distance&#x27;, &#x27;VendorID&#x27;])</pre></div></div></div><div class=\"sk-item\"><div class=\"sk-estimator sk-toggleable\"><input class=\"sk-toggleable__control sk-hidden--visually\" id=\"sk-estimator-id-14\" type=\"checkbox\" ><label for=\"sk-estimator-id-14\" class=\"sk-toggleable__label sk-toggleable__label-arrow\">AddMissingIndicator</label><div class=\"sk-toggleable__content\"><pre>AddMissingIndicator(variables=[&#x27;RatecodeID&#x27;])</pre></div></div></div><div class=\"sk-item\"><div class=\"sk-estimator sk-toggleable\"><input class=\"sk-toggleable__control sk-hidden--visually\" id=\"sk-estimator-id-15\" type=\"checkbox\" ><label for=\"sk-estimator-id-15\" class=\"sk-toggleable__label sk-toggleable__label-arrow\">MeanMedianImputer</label><div class=\"sk-toggleable__content\"><pre>MeanMedianImputer(variables=[&#x27;RatecodeID&#x27;])</pre></div></div></div><div class=\"sk-item\"><div class=\"sk-estimator sk-toggleable\"><input class=\"sk-toggleable__control sk-hidden--visually\" id=\"sk-estimator-id-16\" type=\"checkbox\" ><label for=\"sk-estimator-id-16\" class=\"sk-toggleable__label sk-toggleable__label-arrow\">CalculateDayOfWeek</label><div class=\"sk-toggleable__content\"><pre>CalculateDayOfWeek(feature=&#x27;tpep_pickup_datetime&#x27;)</pre></div></div></div><div class=\"sk-item\"><div class=\"sk-estimator sk-toggleable\"><input class=\"sk-toggleable__control sk-hidden--visually\" id=\"sk-estimator-id-17\" type=\"checkbox\" ><label for=\"sk-estimator-id-17\" class=\"sk-toggleable__label sk-toggleable__label-arrow\">CalculateHourOfDay</label><div class=\"sk-toggleable__content\"><pre>CalculateHourOfDay(feature=&#x27;tpep_pickup_datetime&#x27;)</pre></div></div></div><div class=\"sk-item\"><div class=\"sk-estimator sk-toggleable\"><input class=\"sk-toggleable__control sk-hidden--visually\" id=\"sk-estimator-id-18\" type=\"checkbox\" ><label for=\"sk-estimator-id-18\" class=\"sk-toggleable__label sk-toggleable__label-arrow\">SelectFeatures</label><div class=\"sk-toggleable__content\"><pre>SelectFeatures(features=[&#x27;day_of_week&#x27;, &#x27;DOLocationID&#x27;, &#x27;hour_of_day&#x27;,\n",
       "                         &#x27;payment_type&#x27;, &#x27;PULocationID&#x27;, &#x27;RatecodeID&#x27;,\n",
       "                         &#x27;RatecodeID_na&#x27;, &#x27;total_amount&#x27;,\n",
       "                         &#x27;tpep_pickup_datetime&#x27;, &#x27;trip_distance&#x27;, &#x27;VendorID&#x27;])</pre></div></div></div><div class=\"sk-item\"><div class=\"sk-estimator sk-toggleable\"><input class=\"sk-toggleable__control sk-hidden--visually\" id=\"sk-estimator-id-19\" type=\"checkbox\" ><label for=\"sk-estimator-id-19\" class=\"sk-toggleable__label sk-toggleable__label-arrow\">DropFeatures</label><div class=\"sk-toggleable__content\"><pre>DropFeatures(features_to_drop=[&#x27;tpep_pickup_datetime&#x27;])</pre></div></div></div><div class=\"sk-item\"><div class=\"sk-estimator sk-toggleable\"><input class=\"sk-toggleable__control sk-hidden--visually\" id=\"sk-estimator-id-20\" type=\"checkbox\" ><label for=\"sk-estimator-id-20\" class=\"sk-toggleable__label sk-toggleable__label-arrow\">LogTransformer</label><div class=\"sk-toggleable__content\"><pre>LogTransformer(variables=[&#x27;trip_distance&#x27;, &#x27;total_amount&#x27;])</pre></div></div></div><div class=\"sk-item\"><div class=\"sk-estimator sk-toggleable\"><input class=\"sk-toggleable__control sk-hidden--visually\" id=\"sk-estimator-id-21\" type=\"checkbox\" ><label for=\"sk-estimator-id-21\" class=\"sk-toggleable__label sk-toggleable__label-arrow\">StandardScaler</label><div class=\"sk-toggleable__content\"><pre>StandardScaler()</pre></div></div></div></div></div></div></div>"
      ],
      "text/plain": [
       "Pipeline(steps=[('input vars',\n",
       "                 SelectFeatures(features=['DOLocationID', 'payment_type',\n",
       "                                          'PULocationID', 'RatecodeID',\n",
       "                                          'total_amount',\n",
       "                                          'tpep_pickup_datetime',\n",
       "                                          'trip_distance', 'VendorID'])),\n",
       "                ('add na_flag', AddMissingIndicator(variables=['RatecodeID'])),\n",
       "                ('impute num_vars',\n",
       "                 MeanMedianImputer(variables=['RatecodeID'])),\n",
       "                ('cal day_of_week',\n",
       "                 CalculateDayOfWeek(feature='...\n",
       "                 SelectFeatures(features=['day_of_week', 'DOLocationID',\n",
       "                                          'hour_of_day', 'payment_type',\n",
       "                                          'PULocationID', 'RatecodeID',\n",
       "                                          'RatecodeID_na', 'total_amount',\n",
       "                                          'tpep_pickup_datetime',\n",
       "                                          'trip_distance', 'VendorID'])),\n",
       "                ('drop features',\n",
       "                 DropFeatures(features_to_drop=['tpep_pickup_datetime'])),\n",
       "                ('log transformation',\n",
       "                 LogTransformer(variables=['trip_distance', 'total_amount'])),\n",
       "                ('scale data', StandardScaler())])"
      ]
     },
     "execution_count": 14,
     "metadata": {},
     "output_type": "execute_result"
    }
   ],
   "source": [
    "processor_pipe = Pipeline(\n",
    "    steps=[\n",
    "        # ===== Select input features =====\n",
    "        (\n",
    "            \"input vars\",\n",
    "            fe.SelectFeatures(features=config.model_config.INPUT_FEATURES),\n",
    "        ),\n",
    "        # ===== Add NaN flags =====\n",
    "        (\n",
    "            \"add na_flag\",\n",
    "            AddMissingIndicator(\n",
    "                missing_only=True, variables=config.model_config.NUM_VARS_WF_NA\n",
    "            ),\n",
    "        ),\n",
    "        # ===== Impute NaNs =====\n",
    "        (\n",
    "            \"impute num_vars\",\n",
    "            MeanMedianImputer(\n",
    "                imputation_method=\"median\", variables=config.model_config.NUM_VARS_WF_NA\n",
    "            ),\n",
    "        ),\n",
    "        # ===== Create new features =====\n",
    "        (\n",
    "            \"cal day_of_week\",\n",
    "            fe.CalculateDayOfWeek(feature=config.model_config.TEMPORAL_VAR),\n",
    "        ),\n",
    "        (\n",
    "            \"cal hour_of_day\",\n",
    "            fe.CalculateHourOfDay(feature=config.model_config.TEMPORAL_VAR),\n",
    "        ),\n",
    "        # ===== Select features =====\n",
    "        (\n",
    "            \"important vars\",\n",
    "            fe.SelectFeatures(features=config.model_config.IMPORTANT_FEATURES),\n",
    "        ),\n",
    "        # ===== Drop features =====\n",
    "        (\n",
    "            \"drop features\",\n",
    "            DropFeatures(features_to_drop=config.model_config.VARS_TO_DROP),\n",
    "        ),\n",
    "        # ===== Transform features =====\n",
    "        (\n",
    "            \"log transformation\",\n",
    "            LogTransformer(\n",
    "                variables=config.model_config.VARS_TO_LOG_TRANSFORM, base=\"e\"\n",
    "            ),\n",
    "        ),\n",
    "        # ===== Scale features =====\n",
    "        (\"scale data\", StandardScaler()),\n",
    "    ]\n",
    ")\n",
    "processor_pipe"
   ]
  },
  {
   "cell_type": "code",
   "execution_count": 15,
   "id": "8097845e-a7ed-45ec-8a3c-38d328359f7e",
   "metadata": {
    "scrolled": true
   },
   "outputs": [
    {
     "data": {
      "text/plain": [
       "array([[-1.00089976, -0.30748805, -1.00089976, ...,  0.15052504,\n",
       "         0.40631037, -1.46047044],\n",
       "       [-0.50248195, -1.35582406, -0.50248195, ...,  0.13325217,\n",
       "         0.23608744, -1.46047044],\n",
       "       [-0.50248195,  1.024182  , -0.50248195, ..., -0.16442454,\n",
       "        -0.1382306 ,  0.61546867],\n",
       "       ...,\n",
       "       [ 0.99277148,  1.06668211,  0.99277148, ...,  0.59358628,\n",
       "         0.82744054, -1.46047044],\n",
       "       [-0.50248195,  0.00417941, -0.50248195, ..., -0.6083715 ,\n",
       "        -0.21165277, -1.46047044],\n",
       "       [-0.50248195,  1.03834871, -0.50248195, ...,  0.03242537,\n",
       "         0.09910066,  0.61546867]])"
      ]
     },
     "execution_count": 15,
     "metadata": {},
     "output_type": "execute_result"
    }
   ],
   "source": [
    "### Transform data\n",
    "processed_data = processor_pipe.fit_transform(X_train)\n",
    "\n",
    "# NumPy Array\n",
    "processed_data"
   ]
  },
  {
   "cell_type": "code",
   "execution_count": 16,
   "id": "aeb8a11a-71b2-49a0-a58c-a432dd635c40",
   "metadata": {
    "scrolled": true
   },
   "outputs": [],
   "source": [
    "# Persist Data\n",
    "fp = \"models/processor_pipeline.joblib\"\n",
    "\n",
    "with open(fp, \"wb\") as file:\n",
    "    joblib.dump(value=processor_pipe, filename=file)"
   ]
  },
  {
   "cell_type": "markdown",
   "id": "0dceb6d7-eef2-4cc6-9867-878d3e481c9c",
   "metadata": {},
   "source": [
    "## Make Predictions Using Unseen Data"
   ]
  },
  {
   "cell_type": "code",
   "execution_count": 17,
   "id": "67d37d43-ac69-4fc5-9e75-3a3f6c78c329",
   "metadata": {
    "scrolled": true
   },
   "outputs": [
    {
     "data": {
      "text/plain": [
       "{'DOLocationID': [82, 72],\n",
       " 'payment_type': [1, 2],\n",
       " 'PULocationID': [5, 99],\n",
       " 'RatecodeID': [nan, 2],\n",
       " 'tpep_pickup_datetime': ['2022-12-16 14:33:43', '2022-12-18 09:18:03'],\n",
       " 'trip_distance': [5.5, 3.1],\n",
       " 'VendorID': [2, 1],\n",
       " 'total_amount': [12, 9.5]}"
      ]
     },
     "execution_count": 17,
     "metadata": {},
     "output_type": "execute_result"
    }
   ],
   "source": [
    "new_data = {\n",
    "    \"DOLocationID\": [82, 72],\n",
    "    \"payment_type\": [1, 2],\n",
    "    \"PULocationID\": [5, 99],\n",
    "    \"RatecodeID\": [np.nan, 2],\n",
    "    \"tpep_pickup_datetime\": [\"2022-12-16 14:33:43\", \"2022-12-18 09:18:03\"],\n",
    "    \"trip_distance\": [5.5, 3.1],\n",
    "    \"VendorID\": [2, 1],\n",
    "    \"total_amount\": [12, 9.5],\n",
    "}\n",
    "\n",
    "new_data"
   ]
  },
  {
   "cell_type": "code",
   "execution_count": 18,
   "id": "d1b8e9bd-f9f7-4b0f-bae8-76085bd7959c",
   "metadata": {
    "scrolled": true
   },
   "outputs": [],
   "source": [
    "def make_predictions(*, data: tp.Dict) -> pd.DataFrame:\n",
    "    \"\"\"This returns the predictions.\"\"\"\n",
    "    if len(data.get(\"DOLocationID\")) == 1:\n",
    "        df = pd.DataFrame(new_data, index=[0])\n",
    "    else:\n",
    "        df = pd.DataFrame(new_data)\n",
    "    # Conevrt to datetime\n",
    "    df[\"tpep_pickup_datetime\"] = pd.to_datetime(\n",
    "        df[\"tpep_pickup_datetime\"], errors=\"coerce\"\n",
    "    )\n",
    "    # Validate the input\n",
    "    df, error = validate_input(data=df)\n",
    "    if error is None:\n",
    "        # Make predictions\n",
    "        pred = lr_pipe.predict(df)\n",
    "        pred = list(np.exp(pred))  # Convert from log to minutes\n",
    "        df[\"trip_duration_mins\"] = [round(x) for x in pred]\n",
    "        return df\n",
    "    else:\n",
    "        raise Exception(\"Input data cannot be validated!\")"
   ]
  },
  {
   "cell_type": "code",
   "execution_count": 19,
   "id": "64429810-3b86-4d5c-bdbc-2211af939774",
   "metadata": {
    "scrolled": true
   },
   "outputs": [
    {
     "data": {
      "text/html": [
       "<div>\n",
       "<style scoped>\n",
       "    .dataframe tbody tr th:only-of-type {\n",
       "        vertical-align: middle;\n",
       "    }\n",
       "\n",
       "    .dataframe tbody tr th {\n",
       "        vertical-align: top;\n",
       "    }\n",
       "\n",
       "    .dataframe thead th {\n",
       "        text-align: right;\n",
       "    }\n",
       "</style>\n",
       "<table border=\"1\" class=\"dataframe\">\n",
       "  <thead>\n",
       "    <tr style=\"text-align: right;\">\n",
       "      <th></th>\n",
       "      <th>DOLocationID</th>\n",
       "      <th>payment_type</th>\n",
       "      <th>PULocationID</th>\n",
       "      <th>RatecodeID</th>\n",
       "      <th>tpep_pickup_datetime</th>\n",
       "      <th>trip_distance</th>\n",
       "      <th>VendorID</th>\n",
       "      <th>total_amount</th>\n",
       "      <th>trip_duration_mins</th>\n",
       "    </tr>\n",
       "  </thead>\n",
       "  <tbody>\n",
       "    <tr>\n",
       "      <th>0</th>\n",
       "      <td>82</td>\n",
       "      <td>1</td>\n",
       "      <td>5</td>\n",
       "      <td>NaN</td>\n",
       "      <td>2022-12-16 14:33:43</td>\n",
       "      <td>5.5</td>\n",
       "      <td>2</td>\n",
       "      <td>12.0</td>\n",
       "      <td>14</td>\n",
       "    </tr>\n",
       "    <tr>\n",
       "      <th>1</th>\n",
       "      <td>72</td>\n",
       "      <td>2</td>\n",
       "      <td>99</td>\n",
       "      <td>2.0</td>\n",
       "      <td>2022-12-18 09:18:03</td>\n",
       "      <td>3.1</td>\n",
       "      <td>1</td>\n",
       "      <td>9.5</td>\n",
       "      <td>11</td>\n",
       "    </tr>\n",
       "  </tbody>\n",
       "</table>\n",
       "</div>"
      ],
      "text/plain": [
       "   DOLocationID  payment_type  PULocationID  RatecodeID tpep_pickup_datetime  \\\n",
       "0            82             1             5         NaN  2022-12-16 14:33:43   \n",
       "1            72             2            99         2.0  2022-12-18 09:18:03   \n",
       "\n",
       "   trip_distance  VendorID  total_amount  trip_duration_mins  \n",
       "0            5.5         2          12.0                  14  \n",
       "1            3.1         1           9.5                  11  "
      ]
     },
     "execution_count": 19,
     "metadata": {},
     "output_type": "execute_result"
    }
   ],
   "source": [
    "make_predictions(data=new_data)"
   ]
  },
  {
   "cell_type": "code",
   "execution_count": null,
   "id": "b6c5306c-e55d-4cef-9eaa-0a02c035fdd4",
   "metadata": {
    "scrolled": true
   },
   "outputs": [],
   "source": []
  },
  {
   "cell_type": "code",
   "execution_count": null,
   "id": "847c920f-c4a9-4b03-bbf7-721ba8e32d34",
   "metadata": {
    "scrolled": true
   },
   "outputs": [],
   "source": []
  }
 ],
 "metadata": {
  "kernelspec": {
   "display_name": "Python3.10 (mlflow)",
   "language": "python",
   "name": "mlflow_env_p310"
  },
  "language_info": {
   "codemirror_mode": {
    "name": "ipython",
    "version": 3
   },
   "file_extension": ".py",
   "mimetype": "text/x-python",
   "name": "python",
   "nbconvert_exporter": "python",
   "pygments_lexer": "ipython3",
   "version": "3.10.8"
  }
 },
 "nbformat": 4,
 "nbformat_minor": 5
}
